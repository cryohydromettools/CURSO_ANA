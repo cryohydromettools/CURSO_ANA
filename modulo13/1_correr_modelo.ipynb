{
 "cells": [
  {
   "cell_type": "markdown",
   "id": "5fc74ef3",
   "metadata": {},
   "source": [
    "# Correr el modelo glaciológico PDD\n",
    "\n",
    "En la carpeta `positive-degree-day-model-1.0` encontrarás los códigos del modelo simple **PDD** (*Positive Degree Day model*), usado para estimar la fusión de hielo y nieve a partir de temperaturas diarias.  \n",
    "\n",
    "Este paquete contiene dos versiones:  \n",
    "1. **Con corrección por viento** – incluye un ajuste adicional que tiene en cuenta el efecto del viento sobre la fusión.  \n",
    "2. **Sin corrección por viento** – versión más simple, sin ajustes adicionales.  \n",
    "\n",
    "En este ejercicio usaremos la **versión sin corrección por viento**.  \n",
    "El código principal (`PDD_dt.py`) se encuentra dentro de la carpeta `PDD_noSD`.\n",
    "\n",
    "\n",
    "## Ejecución del modelo desde la terminal\n",
    "\n",
    "### 1. Activar el entorno de Python\n",
    "El modelo requiere algunas librerías específicas de Python. Para evitar conflictos con otros proyectos, lo ejecutaremos dentro de un **entorno Conda** previamente configurado.\n",
    "\n",
    "```bash\n",
    "conda activate pdd\n",
    "```\n",
    "\n",
    "### 2. Ubicarse en la carpeta del modelo\n",
    "\n",
    "Para que el script pueda acceder a los datos y configuraciones correctamente, debemos movernos a la carpeta PDD_noSD.\n",
    "\n",
    "\n",
    "```bash\n",
    "cd PDD_noSD\n",
    "```\n",
    "\n",
    "### 3. Ejecutar el script principal\n",
    "\n",
    "Una vez en la carpeta correcta, podemos ejecutar el modelo usando:\n",
    "\n",
    "```bash\n",
    "python PDD_dt.py\n",
    "```\n",
    "\n",
    "### 4. Cambiar los archivos de entrada y salida\n",
    "\n",
    "Podemos modificar los archivos de entrada y salida del programa editando las siguientes líneas de código:\n",
    "\n",
    "```python\n",
    "# Configurar rutas de archivos\n",
    "infile = '../../../data/AWS_input_AG.nc'  # Ruta del archivo de entrada (datos fuente)\n",
    "outfile = './AG_output.nc'                # Ruta del archivo de salida (resultados)\n",
    "\n",
    "```"
   ]
  }
 ],
 "metadata": {
  "language_info": {
   "name": "python"
  }
 },
 "nbformat": 4,
 "nbformat_minor": 5
}
