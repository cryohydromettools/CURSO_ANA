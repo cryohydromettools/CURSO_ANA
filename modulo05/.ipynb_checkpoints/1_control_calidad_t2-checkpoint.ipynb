{
 "cells": [
  {
   "cell_type": "markdown",
   "id": "5858a869",
   "metadata": {},
   "source": [
    "# Control de Calidad de Datos\n",
    "\n",
    "Este procedimiento aplica tres pasos consecutivos para realizar control de calidad en datos meteorológicos.\n"
   ]
  },
  {
   "cell_type": "markdown",
   "id": "9925f395",
   "metadata": {},
   "source": [
    "## Importar librerias"
   ]
  },
  {
   "cell_type": "code",
   "execution_count": 3,
   "id": "d900050a",
   "metadata": {},
   "outputs": [],
   "source": [
    "import pandas as pd\n",
    "import numpy as np\n",
    "import matplotlib.pyplot as plt"
   ]
  },
  {
   "cell_type": "markdown",
   "id": "7e11afe1",
   "metadata": {},
   "source": [
    "## Leer datos"
   ]
  },
  {
   "cell_type": "markdown",
   "id": "3c1ac691",
   "metadata": {},
   "source": [
    "### Descripción del Bloque de Código\n",
    "\n",
    "- Se guarda la ruta relativa del archivo en una variable llamada `filename`.\n",
    "\n",
    "- El archivo se encuentra en la carpeta `data` y se llama `AWS_M_T2.csv`.\n",
    "\n",
    "- Se utiliza `pandas.read_csv()` para leer el archivo.\n",
    "\n",
    "- `sep='\\t'` indica que el archivo usa **tabulaciones** como separador entre columnas (formato TSV).\n",
    "\n",
    "- Los datos se cargan en un DataFrame llamado `df_T2_h`.\n",
    "\n",
    "- Se convierte la columna `fecha_hora` en un objeto `datetime`.\n"
   ]
  },
  {
   "cell_type": "code",
   "execution_count": 4,
   "id": "bae893a1",
   "metadata": {},
   "outputs": [
    {
     "data": {
      "text/html": [
       "<div>\n",
       "<style scoped>\n",
       "    .dataframe tbody tr th:only-of-type {\n",
       "        vertical-align: middle;\n",
       "    }\n",
       "\n",
       "    .dataframe tbody tr th {\n",
       "        vertical-align: top;\n",
       "    }\n",
       "\n",
       "    .dataframe thead th {\n",
       "        text-align: right;\n",
       "    }\n",
       "</style>\n",
       "<table border=\"1\" class=\"dataframe\">\n",
       "  <thead>\n",
       "    <tr style=\"text-align: right;\">\n",
       "      <th></th>\n",
       "      <th>fecha_hora</th>\n",
       "      <th>Ta_Avg</th>\n",
       "    </tr>\n",
       "  </thead>\n",
       "  <tbody>\n",
       "    <tr>\n",
       "      <th>0</th>\n",
       "      <td>2016-06-01 00:00:00</td>\n",
       "      <td>-0.356606</td>\n",
       "    </tr>\n",
       "    <tr>\n",
       "      <th>1</th>\n",
       "      <td>2016-06-01 01:00:00</td>\n",
       "      <td>-0.803753</td>\n",
       "    </tr>\n",
       "    <tr>\n",
       "      <th>2</th>\n",
       "      <td>2016-06-01 02:00:00</td>\n",
       "      <td>-1.104493</td>\n",
       "    </tr>\n",
       "    <tr>\n",
       "      <th>3</th>\n",
       "      <td>2016-06-01 03:00:00</td>\n",
       "      <td>-1.351831</td>\n",
       "    </tr>\n",
       "    <tr>\n",
       "      <th>4</th>\n",
       "      <td>2016-06-01 04:00:00</td>\n",
       "      <td>-1.227747</td>\n",
       "    </tr>\n",
       "    <tr>\n",
       "      <th>...</th>\n",
       "      <td>...</td>\n",
       "      <td>...</td>\n",
       "    </tr>\n",
       "    <tr>\n",
       "      <th>14435</th>\n",
       "      <td>2018-01-23 11:00:00</td>\n",
       "      <td>2.016000</td>\n",
       "    </tr>\n",
       "    <tr>\n",
       "      <th>14436</th>\n",
       "      <td>2018-01-23 12:00:00</td>\n",
       "      <td>2.846000</td>\n",
       "    </tr>\n",
       "    <tr>\n",
       "      <th>14437</th>\n",
       "      <td>2018-01-23 13:00:00</td>\n",
       "      <td>3.244000</td>\n",
       "    </tr>\n",
       "    <tr>\n",
       "      <th>14438</th>\n",
       "      <td>2018-01-23 14:00:00</td>\n",
       "      <td>3.472000</td>\n",
       "    </tr>\n",
       "    <tr>\n",
       "      <th>14439</th>\n",
       "      <td>2018-01-23 15:00:00</td>\n",
       "      <td>3.127500</td>\n",
       "    </tr>\n",
       "  </tbody>\n",
       "</table>\n",
       "<p>14440 rows × 2 columns</p>\n",
       "</div>"
      ],
      "text/plain": [
       "               fecha_hora    Ta_Avg\n",
       "0     2016-06-01 00:00:00 -0.356606\n",
       "1     2016-06-01 01:00:00 -0.803753\n",
       "2     2016-06-01 02:00:00 -1.104493\n",
       "3     2016-06-01 03:00:00 -1.351831\n",
       "4     2016-06-01 04:00:00 -1.227747\n",
       "...                   ...       ...\n",
       "14435 2018-01-23 11:00:00  2.016000\n",
       "14436 2018-01-23 12:00:00  2.846000\n",
       "14437 2018-01-23 13:00:00  3.244000\n",
       "14438 2018-01-23 14:00:00  3.472000\n",
       "14439 2018-01-23 15:00:00  3.127500\n",
       "\n",
       "[14440 rows x 2 columns]"
      ]
     },
     "execution_count": 4,
     "metadata": {},
     "output_type": "execute_result"
    }
   ],
   "source": [
    "filename = '../data/AWS_G_T2.csv'\n",
    "df_T2_h = pd.read_csv(filename, sep='\\t')\n",
    "df_T2_h.fecha_hora = pd.to_datetime(df_T2_h.fecha_hora)\n",
    "df_T2_h"
   ]
  },
  {
   "cell_type": "markdown",
   "id": "44219ae0",
   "metadata": {},
   "source": [
    "## Verificación de Rangos\n",
    "\n",
    "Se comprueba si los valores están dentro de un rango físico o climatológico aceptable.\n",
    "\n",
    "- Ejemplo: Temperatura entre -40 °C y 60 °C\n",
    "- Valores fuera del rango se marcan como inválidos."
   ]
  },
  {
   "cell_type": "code",
   "execution_count": 5,
   "id": "f0f3d55c",
   "metadata": {},
   "outputs": [],
   "source": [
    "## Definimos los rangos\n",
    "min_val = -40\n",
    "max_val =  60"
   ]
  },
  {
   "cell_type": "code",
   "execution_count": 6,
   "id": "1737a660",
   "metadata": {},
   "outputs": [
    {
     "data": {
      "text/html": [
       "<div>\n",
       "<style scoped>\n",
       "    .dataframe tbody tr th:only-of-type {\n",
       "        vertical-align: middle;\n",
       "    }\n",
       "\n",
       "    .dataframe tbody tr th {\n",
       "        vertical-align: top;\n",
       "    }\n",
       "\n",
       "    .dataframe thead th {\n",
       "        text-align: right;\n",
       "    }\n",
       "</style>\n",
       "<table border=\"1\" class=\"dataframe\">\n",
       "  <thead>\n",
       "    <tr style=\"text-align: right;\">\n",
       "      <th></th>\n",
       "      <th>fecha_hora</th>\n",
       "      <th>Ta_Avg</th>\n",
       "    </tr>\n",
       "  </thead>\n",
       "  <tbody>\n",
       "    <tr>\n",
       "      <th>0</th>\n",
       "      <td>2016-06-01 00:00:00</td>\n",
       "      <td>-0.356606</td>\n",
       "    </tr>\n",
       "    <tr>\n",
       "      <th>1</th>\n",
       "      <td>2016-06-01 01:00:00</td>\n",
       "      <td>-0.803753</td>\n",
       "    </tr>\n",
       "    <tr>\n",
       "      <th>2</th>\n",
       "      <td>2016-06-01 02:00:00</td>\n",
       "      <td>-1.104493</td>\n",
       "    </tr>\n",
       "    <tr>\n",
       "      <th>3</th>\n",
       "      <td>2016-06-01 03:00:00</td>\n",
       "      <td>-1.351831</td>\n",
       "    </tr>\n",
       "    <tr>\n",
       "      <th>4</th>\n",
       "      <td>2016-06-01 04:00:00</td>\n",
       "      <td>-1.227747</td>\n",
       "    </tr>\n",
       "    <tr>\n",
       "      <th>...</th>\n",
       "      <td>...</td>\n",
       "      <td>...</td>\n",
       "    </tr>\n",
       "    <tr>\n",
       "      <th>14435</th>\n",
       "      <td>2018-01-23 11:00:00</td>\n",
       "      <td>2.016000</td>\n",
       "    </tr>\n",
       "    <tr>\n",
       "      <th>14436</th>\n",
       "      <td>2018-01-23 12:00:00</td>\n",
       "      <td>2.846000</td>\n",
       "    </tr>\n",
       "    <tr>\n",
       "      <th>14437</th>\n",
       "      <td>2018-01-23 13:00:00</td>\n",
       "      <td>3.244000</td>\n",
       "    </tr>\n",
       "    <tr>\n",
       "      <th>14438</th>\n",
       "      <td>2018-01-23 14:00:00</td>\n",
       "      <td>3.472000</td>\n",
       "    </tr>\n",
       "    <tr>\n",
       "      <th>14439</th>\n",
       "      <td>2018-01-23 15:00:00</td>\n",
       "      <td>3.127500</td>\n",
       "    </tr>\n",
       "  </tbody>\n",
       "</table>\n",
       "<p>14440 rows × 2 columns</p>\n",
       "</div>"
      ],
      "text/plain": [
       "               fecha_hora    Ta_Avg\n",
       "0     2016-06-01 00:00:00 -0.356606\n",
       "1     2016-06-01 01:00:00 -0.803753\n",
       "2     2016-06-01 02:00:00 -1.104493\n",
       "3     2016-06-01 03:00:00 -1.351831\n",
       "4     2016-06-01 04:00:00 -1.227747\n",
       "...                   ...       ...\n",
       "14435 2018-01-23 11:00:00  2.016000\n",
       "14436 2018-01-23 12:00:00  2.846000\n",
       "14437 2018-01-23 13:00:00  3.244000\n",
       "14438 2018-01-23 14:00:00  3.472000\n",
       "14439 2018-01-23 15:00:00  3.127500\n",
       "\n",
       "[14440 rows x 2 columns]"
      ]
     },
     "execution_count": 6,
     "metadata": {},
     "output_type": "execute_result"
    }
   ],
   "source": [
    "## havemos una copia\n",
    "df_T2_fil = df_T2_h.copy()\n",
    "df_T2_fil"
   ]
  },
  {
   "cell_type": "markdown",
   "id": "191ebd1b",
   "metadata": {},
   "source": [
    "### Reemplazo de Valores Fuera de Rango por `NaN`"
   ]
  },
  {
   "cell_type": "code",
   "execution_count": 7,
   "id": "ad9ec417",
   "metadata": {},
   "outputs": [
    {
     "data": {
      "text/html": [
       "<div>\n",
       "<style scoped>\n",
       "    .dataframe tbody tr th:only-of-type {\n",
       "        vertical-align: middle;\n",
       "    }\n",
       "\n",
       "    .dataframe tbody tr th {\n",
       "        vertical-align: top;\n",
       "    }\n",
       "\n",
       "    .dataframe thead th {\n",
       "        text-align: right;\n",
       "    }\n",
       "</style>\n",
       "<table border=\"1\" class=\"dataframe\">\n",
       "  <thead>\n",
       "    <tr style=\"text-align: right;\">\n",
       "      <th></th>\n",
       "      <th>fecha_hora</th>\n",
       "      <th>Ta_Avg</th>\n",
       "    </tr>\n",
       "  </thead>\n",
       "  <tbody>\n",
       "    <tr>\n",
       "      <th>0</th>\n",
       "      <td>2016-06-01 00:00:00</td>\n",
       "      <td>-0.356606</td>\n",
       "    </tr>\n",
       "    <tr>\n",
       "      <th>1</th>\n",
       "      <td>2016-06-01 01:00:00</td>\n",
       "      <td>-0.803753</td>\n",
       "    </tr>\n",
       "    <tr>\n",
       "      <th>2</th>\n",
       "      <td>2016-06-01 02:00:00</td>\n",
       "      <td>-1.104493</td>\n",
       "    </tr>\n",
       "    <tr>\n",
       "      <th>3</th>\n",
       "      <td>2016-06-01 03:00:00</td>\n",
       "      <td>-1.351831</td>\n",
       "    </tr>\n",
       "    <tr>\n",
       "      <th>4</th>\n",
       "      <td>2016-06-01 04:00:00</td>\n",
       "      <td>-1.227747</td>\n",
       "    </tr>\n",
       "    <tr>\n",
       "      <th>...</th>\n",
       "      <td>...</td>\n",
       "      <td>...</td>\n",
       "    </tr>\n",
       "    <tr>\n",
       "      <th>14435</th>\n",
       "      <td>2018-01-23 11:00:00</td>\n",
       "      <td>2.016000</td>\n",
       "    </tr>\n",
       "    <tr>\n",
       "      <th>14436</th>\n",
       "      <td>2018-01-23 12:00:00</td>\n",
       "      <td>2.846000</td>\n",
       "    </tr>\n",
       "    <tr>\n",
       "      <th>14437</th>\n",
       "      <td>2018-01-23 13:00:00</td>\n",
       "      <td>3.244000</td>\n",
       "    </tr>\n",
       "    <tr>\n",
       "      <th>14438</th>\n",
       "      <td>2018-01-23 14:00:00</td>\n",
       "      <td>3.472000</td>\n",
       "    </tr>\n",
       "    <tr>\n",
       "      <th>14439</th>\n",
       "      <td>2018-01-23 15:00:00</td>\n",
       "      <td>3.127500</td>\n",
       "    </tr>\n",
       "  </tbody>\n",
       "</table>\n",
       "<p>14440 rows × 2 columns</p>\n",
       "</div>"
      ],
      "text/plain": [
       "               fecha_hora    Ta_Avg\n",
       "0     2016-06-01 00:00:00 -0.356606\n",
       "1     2016-06-01 01:00:00 -0.803753\n",
       "2     2016-06-01 02:00:00 -1.104493\n",
       "3     2016-06-01 03:00:00 -1.351831\n",
       "4     2016-06-01 04:00:00 -1.227747\n",
       "...                   ...       ...\n",
       "14435 2018-01-23 11:00:00  2.016000\n",
       "14436 2018-01-23 12:00:00  2.846000\n",
       "14437 2018-01-23 13:00:00  3.244000\n",
       "14438 2018-01-23 14:00:00  3.472000\n",
       "14439 2018-01-23 15:00:00  3.127500\n",
       "\n",
       "[14440 rows x 2 columns]"
      ]
     },
     "execution_count": 7,
     "metadata": {},
     "output_type": "execute_result"
    }
   ],
   "source": [
    "df_T2_fil.loc[(df_T2_fil['Ta_Avg'] < min_val) | (df_T2_fil['Ta_Avg'] > max_val), 'Ta_Avg'] = np.nan\n",
    "df_T2_fil\n"
   ]
  },
  {
   "cell_type": "markdown",
   "id": "b13f1a1f",
   "metadata": {},
   "source": [
    "### Explicación Paso a paso:\n",
    "\n",
    "- `df_T2_fil['Ta_Avg'] < min_val`  \n",
    "  → Selecciona los valores menores que el límite inferior (`min_val`).\n",
    "\n",
    "- `df_T2_fil['Ta_Avg'] > max_val`  \n",
    "  → Selecciona los valores mayores que el límite superior (`max_val`).\n",
    "\n",
    "- `|` (operador OR)  \n",
    "  → Une ambas condiciones: si se cumple **una u otra**, la condición será verdadera.\n",
    "\n",
    "- `.loc[condición, 'Ta_Avg'] = np.nan`  \n",
    "  → A todos los valores que cumplen la condición, se les asigna `np.nan`, marcándolos como inválidos o ausentes.\n",
    "\n",
    "### ¿Por qué se hace esto?\n",
    "\n",
    "- Para **limpiar los datos** de entradas erróneas o físicas/imposibles.\n",
    "- Facilita **análisis posteriores** (por ejemplo, al calcular promedios ignorando `NaN`).\n",
    "- Es una parte fundamental del **control de calidad** de datos ambientales y observacionales.\n"
   ]
  },
  {
   "cell_type": "markdown",
   "id": "789cce6a",
   "metadata": {},
   "source": [
    "### Haciendo una inspeción grafica"
   ]
  },
  {
   "cell_type": "code",
   "execution_count": 8,
   "id": "99329183",
   "metadata": {},
   "outputs": [
    {
     "data": {
      "text/plain": [
       "<Axes: xlabel='fecha_hora'>"
      ]
     },
     "execution_count": 8,
     "metadata": {},
     "output_type": "execute_result"
    },
    {
     "data": {
      "image/png": "[encoded data removed]",
      "text/plain": [
       "<Figure size 640x480 with 1 Axes>"
      ]
     },
     "metadata": {},
     "output_type": "display_data"
    }
   ],
   "source": [
    "df_T2_fil.plot(x='fecha_hora', y='Ta_Avg')"
   ]
  },
  {
   "cell_type": "markdown",
   "id": "0f21829e",
   "metadata": {},
   "source": [
    "## Detección de Outliers (Basado en Datos Horarios)\n",
    "\n",
    "Se identifican valores atípicos comparando cada observación con un conjunto de datos horarios.\n",
    "\n",
    "- Se puede usar una técnica robusta como el rango intercuartílico (IQR) o desviación estándar sobre ventanas móviles.\n",
    "- Valores que exceden umbrales definidos estadísticamente son marcados como outliers.\n"
   ]
  },
  {
   "cell_type": "markdown",
   "id": "c93a4e30",
   "metadata": {},
   "source": [
    "### Extracción de la Hora del Día\n",
    "\n",
    "- Utiliza la propiedad `.dt.hour` de `pandas` para extraer la **hora** (entre 0 y 23) de cada marca temporal (`datetime`) contenida en la columna `fecha_hora`.\n",
    "\n",
    "- Crea una nueva columna llamada `hora`, que contiene únicamente la hora del día correspondiente a cada registro.\n",
    "\n",
    "- Esta columna es útil para **analizar variaciones por franja horaria**, como:\n",
    "\n",
    "  - Comportamiento diurno y nocturno de una variable meteorológica,\n",
    "  - Agrupación horaria para calcular medias o detectar valores atípicos (*outliers*),\n",
    "  - Visualización de ciclos diarios."
   ]
  },
  {
   "cell_type": "code",
   "execution_count": 9,
   "id": "cb20f126",
   "metadata": {},
   "outputs": [
    {
     "data": {
      "text/html": [
       "<div>\n",
       "<style scoped>\n",
       "    .dataframe tbody tr th:only-of-type {\n",
       "        vertical-align: middle;\n",
       "    }\n",
       "\n",
       "    .dataframe tbody tr th {\n",
       "        vertical-align: top;\n",
       "    }\n",
       "\n",
       "    .dataframe thead th {\n",
       "        text-align: right;\n",
       "    }\n",
       "</style>\n",
       "<table border=\"1\" class=\"dataframe\">\n",
       "  <thead>\n",
       "    <tr style=\"text-align: right;\">\n",
       "      <th></th>\n",
       "      <th>fecha_hora</th>\n",
       "      <th>Ta_Avg</th>\n",
       "      <th>hora</th>\n",
       "    </tr>\n",
       "  </thead>\n",
       "  <tbody>\n",
       "    <tr>\n",
       "      <th>0</th>\n",
       "      <td>2016-06-01 00:00:00</td>\n",
       "      <td>-0.356606</td>\n",
       "      <td>0</td>\n",
       "    </tr>\n",
       "    <tr>\n",
       "      <th>1</th>\n",
       "      <td>2016-06-01 01:00:00</td>\n",
       "      <td>-0.803753</td>\n",
       "      <td>1</td>\n",
       "    </tr>\n",
       "    <tr>\n",
       "      <th>2</th>\n",
       "      <td>2016-06-01 02:00:00</td>\n",
       "      <td>-1.104493</td>\n",
       "      <td>2</td>\n",
       "    </tr>\n",
       "    <tr>\n",
       "      <th>3</th>\n",
       "      <td>2016-06-01 03:00:00</td>\n",
       "      <td>-1.351831</td>\n",
       "      <td>3</td>\n",
       "    </tr>\n",
       "    <tr>\n",
       "      <th>4</th>\n",
       "      <td>2016-06-01 04:00:00</td>\n",
       "      <td>-1.227747</td>\n",
       "      <td>4</td>\n",
       "    </tr>\n",
       "    <tr>\n",
       "      <th>...</th>\n",
       "      <td>...</td>\n",
       "      <td>...</td>\n",
       "      <td>...</td>\n",
       "    </tr>\n",
       "    <tr>\n",
       "      <th>14435</th>\n",
       "      <td>2018-01-23 11:00:00</td>\n",
       "      <td>2.016000</td>\n",
       "      <td>11</td>\n",
       "    </tr>\n",
       "    <tr>\n",
       "      <th>14436</th>\n",
       "      <td>2018-01-23 12:00:00</td>\n",
       "      <td>2.846000</td>\n",
       "      <td>12</td>\n",
       "    </tr>\n",
       "    <tr>\n",
       "      <th>14437</th>\n",
       "      <td>2018-01-23 13:00:00</td>\n",
       "      <td>3.244000</td>\n",
       "      <td>13</td>\n",
       "    </tr>\n",
       "    <tr>\n",
       "      <th>14438</th>\n",
       "      <td>2018-01-23 14:00:00</td>\n",
       "      <td>3.472000</td>\n",
       "      <td>14</td>\n",
       "    </tr>\n",
       "    <tr>\n",
       "      <th>14439</th>\n",
       "      <td>2018-01-23 15:00:00</td>\n",
       "      <td>3.127500</td>\n",
       "      <td>15</td>\n",
       "    </tr>\n",
       "  </tbody>\n",
       "</table>\n",
       "<p>14440 rows × 3 columns</p>\n",
       "</div>"
      ],
      "text/plain": [
       "               fecha_hora    Ta_Avg  hora\n",
       "0     2016-06-01 00:00:00 -0.356606     0\n",
       "1     2016-06-01 01:00:00 -0.803753     1\n",
       "2     2016-06-01 02:00:00 -1.104493     2\n",
       "3     2016-06-01 03:00:00 -1.351831     3\n",
       "4     2016-06-01 04:00:00 -1.227747     4\n",
       "...                   ...       ...   ...\n",
       "14435 2018-01-23 11:00:00  2.016000    11\n",
       "14436 2018-01-23 12:00:00  2.846000    12\n",
       "14437 2018-01-23 13:00:00  3.244000    13\n",
       "14438 2018-01-23 14:00:00  3.472000    14\n",
       "14439 2018-01-23 15:00:00  3.127500    15\n",
       "\n",
       "[14440 rows x 3 columns]"
      ]
     },
     "execution_count": 9,
     "metadata": {},
     "output_type": "execute_result"
    }
   ],
   "source": [
    "df_T2_fil['hora'] = df_T2_fil['fecha_hora'].dt.hour\n",
    "df_T2_fil"
   ]
  },
  {
   "cell_type": "markdown",
   "id": "69ae2dc5",
   "metadata": {},
   "source": [
    "### Grafico de boxplot"
   ]
  },
  {
   "cell_type": "code",
   "execution_count": 10,
   "id": "23e418a8",
   "metadata": {},
   "outputs": [
    {
     "data": {
      "text/plain": [
       "<Figure size 1200x600 with 0 Axes>"
      ]
     },
     "metadata": {},
     "output_type": "display_data"
    },
    {
     "data": {
      "image/png": "[encoded data removed]",
      "text/plain": [
       "<Figure size 640x480 with 1 Axes>"
      ]
     },
     "metadata": {},
     "output_type": "display_data"
    }
   ],
   "source": [
    "# Crear una figura con tamaño personalizado (12x6 pulgadas)\n",
    "plt.figure(figsize=(12, 6))\n",
    "\n",
    "# Generar un boxplot de la columna 'Ta_Avg' agrupado por la columna 'hora', sin cuadrícula\n",
    "df_T2_fil.boxplot(column='Ta_Avg', by='hora', grid=False)\n",
    "\n",
    "# Añadir un título descriptivo al gráfico\n",
    "plt.title('Boxplot de Ta_Avg por hora del día')\n",
    "\n",
    "# Quitar el título automático que Pandas agrega al gráfico\n",
    "plt.suptitle('')\n",
    "\n",
    "# Etiquetar el eje x con \"Hora del día\"\n",
    "plt.xlabel('Hora del día')\n",
    "\n",
    "# Etiquetar el eje y con \"Ta_Avg\" (temperatura promedio)\n",
    "plt.ylabel('Ta_Avg')\n",
    "\n",
    "# Mostrar el gráfico resultante en pantalla\n",
    "plt.show()"
   ]
  },
  {
   "cell_type": "markdown",
   "id": "a342d1e5",
   "metadata": {},
   "source": [
    "### Creando una funcion para reemplazar outliers"
   ]
  },
  {
   "cell_type": "code",
   "execution_count": 11,
   "id": "b40d7ce5",
   "metadata": {},
   "outputs": [],
   "source": [
    "def reemplazar_outliers(grupo):\n",
    "    \"\"\"\n",
    "    Reemplaza los valores atípicos (outliers) en la columna 'Ta_Avg' de un DataFrame o grupo de datos.\n",
    "\n",
    "    Parámetros:\n",
    "    -----------\n",
    "    grupo : pandas.DataFrame\n",
    "        DataFrame que contiene la columna 'Ta_Avg' a procesar.\n",
    "\n",
    "    Retorna:\n",
    "    --------\n",
    "    pandas.DataFrame\n",
    "        DataFrame modificado donde los valores considerados outliers en 'Ta_Avg' \n",
    "        han sido reemplazados por np.nan.\n",
    "\n",
    "    Descripción:\n",
    "    ------------\n",
    "    1. Calcula el primer cuartil (Q1) y el tercer cuartil (Q3) de 'Ta_Avg'.\n",
    "    2. Calcula el rango intercuartílico (IQR = Q3 - Q1).\n",
    "    3. Define límites inferior y superior para detectar outliers:\n",
    "       - límite inferior = Q1 - 1.5 * IQR\n",
    "       - límite superior = Q3 + 1.5 * IQR\n",
    "    4. Identifica valores de 'Ta_Avg' que están fuera de estos límites.\n",
    "    5. Reemplaza estos valores atípicos por np.nan para marcarlos como inválidos.\n",
    "    6. Retorna el DataFrame modificado.\n",
    "\n",
    "    Uso típico:\n",
    "    -----------\n",
    "    Esta función es útil para limpiar datos meteorológicos o series temporales, \n",
    "    eliminando valores extremos que pueden ser errores o atípicos no representativos.\n",
    "    \"\"\"\n",
    "    Q1 = grupo['Ta_Avg'].quantile(0.25)\n",
    "    Q3 = grupo['Ta_Avg'].quantile(0.75)\n",
    "    IQR = Q3 - Q1\n",
    "    limite_inf = Q1 - 1.5 * IQR\n",
    "    limite_sup = Q3 + 1.5 * IQR\n",
    "    \n",
    "    # Condición para identificar outliers\n",
    "    outliers = (grupo['Ta_Avg'] < limite_inf) | (grupo['Ta_Avg'] > limite_sup)\n",
    "    \n",
    "    # Reemplazar outliers con NaN\n",
    "    grupo.loc[outliers, 'Ta_Avg'] = np.nan\n",
    "    \n",
    "    return grupo"
   ]
  },
  {
   "cell_type": "markdown",
   "id": "7b0cde6f",
   "metadata": {},
   "source": [
    "### Aplicando la función"
   ]
  },
  {
   "cell_type": "code",
   "execution_count": 12,
   "id": "5886c42f",
   "metadata": {},
   "outputs": [
    {
     "name": "stderr",
     "output_type": "stream",
     "text": [
      "/tmp/ipykernel_9050/1905930626.py:1: DeprecationWarning: DataFrameGroupBy.apply operated on the grouping columns. This behavior is deprecated, and in a future version of pandas the grouping columns will be excluded from the operation. Either pass `include_groups=False` to exclude the groupings or explicitly select the grouping columns after groupby to silence this warning.\n",
      "  df_sin_outliers = df_T2_fil.groupby('hora').apply(reemplazar_outliers).reset_index(drop=True).sort_values('fecha_hora').reset_index(drop=True)\n"
     ]
    }
   ],
   "source": [
    "df_sin_outliers = df_T2_fil.groupby('hora').apply(reemplazar_outliers).reset_index(drop=True).sort_values('fecha_hora').reset_index(drop=True)"
   ]
  },
  {
   "cell_type": "markdown",
   "id": "21ceff77",
   "metadata": {},
   "source": [
    "- `df_T2_fil.groupby('hora')`  \n",
    "  Agrupa el DataFrame `df_T2_fil` según la columna `'hora'`, creando grupos para cada hora del día (0 a 23).\n",
    "\n",
    "- `.apply(reemplazar_outliers)`  \n",
    "  Aplica la función `reemplazar_outliers` a cada grupo por hora, identificando y reemplazando los outliers en la columna `'Ta_Avg'` dentro de cada grupo.\n",
    "\n",
    "- `.reset_index(drop=True)`  \n",
    "  Después de aplicar la función, se resetea el índice del DataFrame resultante, descartando el índice anterior (que incluía las etiquetas de grupo) para tener un índice simple y consecutivo.\n",
    "\n",
    "- `.sort_values('fecha_hora')`  \n",
    "  Ordena el DataFrame completo por la columna `'fecha_hora'`, asegurando que los datos estén en orden temporal.\n",
    "\n",
    "- `.reset_index(drop=True)`  \n",
    "  Finalmente, resetea nuevamente el índice para que sea limpio y consecutivo después del ordenamiento temporal.\n"
   ]
  },
  {
   "cell_type": "code",
   "execution_count": 13,
   "id": "d65b00cd",
   "metadata": {},
   "outputs": [
    {
     "data": {
      "text/html": [
       "<div>\n",
       "<style scoped>\n",
       "    .dataframe tbody tr th:only-of-type {\n",
       "        vertical-align: middle;\n",
       "    }\n",
       "\n",
       "    .dataframe tbody tr th {\n",
       "        vertical-align: top;\n",
       "    }\n",
       "\n",
       "    .dataframe thead th {\n",
       "        text-align: right;\n",
       "    }\n",
       "</style>\n",
       "<table border=\"1\" class=\"dataframe\">\n",
       "  <thead>\n",
       "    <tr style=\"text-align: right;\">\n",
       "      <th></th>\n",
       "      <th>fecha_hora</th>\n",
       "      <th>Ta_Avg</th>\n",
       "      <th>hora</th>\n",
       "    </tr>\n",
       "  </thead>\n",
       "  <tbody>\n",
       "    <tr>\n",
       "      <th>0</th>\n",
       "      <td>2016-06-01 00:00:00</td>\n",
       "      <td>-0.356606</td>\n",
       "      <td>0</td>\n",
       "    </tr>\n",
       "    <tr>\n",
       "      <th>1</th>\n",
       "      <td>2016-06-01 01:00:00</td>\n",
       "      <td>-0.803753</td>\n",
       "      <td>1</td>\n",
       "    </tr>\n",
       "    <tr>\n",
       "      <th>2</th>\n",
       "      <td>2016-06-01 02:00:00</td>\n",
       "      <td>-1.104493</td>\n",
       "      <td>2</td>\n",
       "    </tr>\n",
       "    <tr>\n",
       "      <th>3</th>\n",
       "      <td>2016-06-01 03:00:00</td>\n",
       "      <td>-1.351831</td>\n",
       "      <td>3</td>\n",
       "    </tr>\n",
       "    <tr>\n",
       "      <th>4</th>\n",
       "      <td>2016-06-01 04:00:00</td>\n",
       "      <td>-1.227747</td>\n",
       "      <td>4</td>\n",
       "    </tr>\n",
       "    <tr>\n",
       "      <th>...</th>\n",
       "      <td>...</td>\n",
       "      <td>...</td>\n",
       "      <td>...</td>\n",
       "    </tr>\n",
       "    <tr>\n",
       "      <th>14435</th>\n",
       "      <td>2018-01-23 11:00:00</td>\n",
       "      <td>2.016000</td>\n",
       "      <td>11</td>\n",
       "    </tr>\n",
       "    <tr>\n",
       "      <th>14436</th>\n",
       "      <td>2018-01-23 12:00:00</td>\n",
       "      <td>2.846000</td>\n",
       "      <td>12</td>\n",
       "    </tr>\n",
       "    <tr>\n",
       "      <th>14437</th>\n",
       "      <td>2018-01-23 13:00:00</td>\n",
       "      <td>3.244000</td>\n",
       "      <td>13</td>\n",
       "    </tr>\n",
       "    <tr>\n",
       "      <th>14438</th>\n",
       "      <td>2018-01-23 14:00:00</td>\n",
       "      <td>3.472000</td>\n",
       "      <td>14</td>\n",
       "    </tr>\n",
       "    <tr>\n",
       "      <th>14439</th>\n",
       "      <td>2018-01-23 15:00:00</td>\n",
       "      <td>3.127500</td>\n",
       "      <td>15</td>\n",
       "    </tr>\n",
       "  </tbody>\n",
       "</table>\n",
       "<p>14440 rows × 3 columns</p>\n",
       "</div>"
      ],
      "text/plain": [
       "               fecha_hora    Ta_Avg  hora\n",
       "0     2016-06-01 00:00:00 -0.356606     0\n",
       "1     2016-06-01 01:00:00 -0.803753     1\n",
       "2     2016-06-01 02:00:00 -1.104493     2\n",
       "3     2016-06-01 03:00:00 -1.351831     3\n",
       "4     2016-06-01 04:00:00 -1.227747     4\n",
       "...                   ...       ...   ...\n",
       "14435 2018-01-23 11:00:00  2.016000    11\n",
       "14436 2018-01-23 12:00:00  2.846000    12\n",
       "14437 2018-01-23 13:00:00  3.244000    13\n",
       "14438 2018-01-23 14:00:00  3.472000    14\n",
       "14439 2018-01-23 15:00:00  3.127500    15\n",
       "\n",
       "[14440 rows x 3 columns]"
      ]
     },
     "execution_count": 13,
     "metadata": {},
     "output_type": "execute_result"
    }
   ],
   "source": [
    "df_sin_outliers"
   ]
  },
  {
   "cell_type": "markdown",
   "id": "230a8c88",
   "metadata": {},
   "source": [
    "### Grafico de boxplot nuevamente"
   ]
  },
  {
   "cell_type": "code",
   "execution_count": 14,
   "id": "8fcb36a2",
   "metadata": {},
   "outputs": [
    {
     "data": {
      "text/plain": [
       "<Figure size 1200x600 with 0 Axes>"
      ]
     },
     "metadata": {},
     "output_type": "display_data"
    },
    {
     "data": {
      "image/png": "[encoded data removed]",
      "text/plain": [
       "<Figure size 640x480 with 1 Axes>"
      ]
     },
     "metadata": {},
     "output_type": "display_data"
    }
   ],
   "source": [
    "# Crear una figura con tamaño personalizado (12x6 pulgadas)\n",
    "plt.figure(figsize=(12, 6))\n",
    "\n",
    "# Generar un boxplot de la columna 'Ta_Avg' agrupado por la columna 'hora', sin cuadrícula\n",
    "df_sin_outliers.boxplot(column='Ta_Avg', by='hora', grid=False)\n",
    "\n",
    "# Añadir un título descriptivo al gráfico\n",
    "plt.title('Boxplot de Ta_Avg por hora del día')\n",
    "\n",
    "# Quitar el título automático que Pandas agrega al gráfico\n",
    "plt.suptitle('')\n",
    "\n",
    "# Etiquetar el eje x con \"Hora del día\"\n",
    "plt.xlabel('Hora del día')\n",
    "\n",
    "# Etiquetar el eje y con \"Ta_Avg\" (temperatura promedio)\n",
    "plt.ylabel('Ta_Avg')\n",
    "\n",
    "# Mostrar el gráfico resultante en pantalla\n",
    "plt.show()"
   ]
  },
  {
   "cell_type": "markdown",
   "id": "9f77c01e",
   "metadata": {},
   "source": [
    "## Prueba de Paso (\"Step Test\")\n",
    "\n",
    "Se detectan saltos abruptos entre observaciones consecutivas:\n",
    "\n",
    "| Fórmula                                     | Descripción                     |\n",
    "|--------------------------------------------|---------------------------------|\n",
    "| \\| T[t] - T[t-1] \\| ≥ **threshold**         | Salto entre dos observaciones  |\n",
    "\n",
    "- Si la diferencia absoluta entre dos registros consecutivos supera un **umbral predefinido**, se considera un posible error instrumental o de transmisión.\n",
    "- El valor de `threshold` debe definirse según la variable y la resolución temporal (ej., 4 °C para temperatura horaria).\n"
   ]
  },
  {
   "cell_type": "markdown",
   "id": "3222d991",
   "metadata": {},
   "source": [
    "### Creando una función"
   ]
  },
  {
   "cell_type": "code",
   "execution_count": 15,
   "id": "269729a6",
   "metadata": {},
   "outputs": [],
   "source": [
    "def step_test_nan(df, col='temperature', threshold=4):\n",
    "    \"\"\"\n",
    "    Reemplaza por NaN los valores de temperatura que violan la prueba de paso:\n",
    "    |T[t] - T[t-1]| >= threshold.\n",
    "    \n",
    "    Parámetros:\n",
    "    - df: DataFrame con la columna de temperatura.\n",
    "    - col: nombre de la columna de temperatura.\n",
    "    - threshold: valor límite aceptável para el paso.\n",
    "\n",
    "    Retorna:\n",
    "    - df_out: DataFrame con los valores filtrados (reemplazados por NaN si fallan).\n",
    "    \"\"\"\n",
    "    df_out = df.copy()\n",
    "    \n",
    "    # Calcula diferencia entre T[t] y T[t-1]\n",
    "    diff = df_out[col].diff()\n",
    "\n",
    "    # Condición: valor actual y anterior no son NaN, y paso >= threshold\n",
    "    mask_invalid = (diff.abs() >= threshold) & df_out[col].notna() & df_out[col].shift(1).notna()\n",
    "\n",
    "    # Sustituye solo los valores actuales inválidos por NaN\n",
    "    df_out.loc[mask_invalid, col] = np.nan\n",
    "\n",
    "    return df_out\n"
   ]
  },
  {
   "cell_type": "markdown",
   "id": "0ff8d13c",
   "metadata": {},
   "source": [
    "### Aplicando la función"
   ]
  },
  {
   "cell_type": "code",
   "execution_count": 16,
   "id": "59235ecb",
   "metadata": {},
   "outputs": [
    {
     "data": {
      "text/html": [
       "<div>\n",
       "<style scoped>\n",
       "    .dataframe tbody tr th:only-of-type {\n",
       "        vertical-align: middle;\n",
       "    }\n",
       "\n",
       "    .dataframe tbody tr th {\n",
       "        vertical-align: top;\n",
       "    }\n",
       "\n",
       "    .dataframe thead th {\n",
       "        text-align: right;\n",
       "    }\n",
       "</style>\n",
       "<table border=\"1\" class=\"dataframe\">\n",
       "  <thead>\n",
       "    <tr style=\"text-align: right;\">\n",
       "      <th></th>\n",
       "      <th>fecha_hora</th>\n",
       "      <th>Ta_Avg</th>\n",
       "      <th>hora</th>\n",
       "    </tr>\n",
       "  </thead>\n",
       "  <tbody>\n",
       "    <tr>\n",
       "      <th>0</th>\n",
       "      <td>2016-06-01 00:00:00</td>\n",
       "      <td>-0.356606</td>\n",
       "      <td>0</td>\n",
       "    </tr>\n",
       "    <tr>\n",
       "      <th>1</th>\n",
       "      <td>2016-06-01 01:00:00</td>\n",
       "      <td>-0.803753</td>\n",
       "      <td>1</td>\n",
       "    </tr>\n",
       "    <tr>\n",
       "      <th>2</th>\n",
       "      <td>2016-06-01 02:00:00</td>\n",
       "      <td>-1.104493</td>\n",
       "      <td>2</td>\n",
       "    </tr>\n",
       "    <tr>\n",
       "      <th>3</th>\n",
       "      <td>2016-06-01 03:00:00</td>\n",
       "      <td>-1.351831</td>\n",
       "      <td>3</td>\n",
       "    </tr>\n",
       "    <tr>\n",
       "      <th>4</th>\n",
       "      <td>2016-06-01 04:00:00</td>\n",
       "      <td>-1.227747</td>\n",
       "      <td>4</td>\n",
       "    </tr>\n",
       "    <tr>\n",
       "      <th>...</th>\n",
       "      <td>...</td>\n",
       "      <td>...</td>\n",
       "      <td>...</td>\n",
       "    </tr>\n",
       "    <tr>\n",
       "      <th>14435</th>\n",
       "      <td>2018-01-23 11:00:00</td>\n",
       "      <td>2.016000</td>\n",
       "      <td>11</td>\n",
       "    </tr>\n",
       "    <tr>\n",
       "      <th>14436</th>\n",
       "      <td>2018-01-23 12:00:00</td>\n",
       "      <td>2.846000</td>\n",
       "      <td>12</td>\n",
       "    </tr>\n",
       "    <tr>\n",
       "      <th>14437</th>\n",
       "      <td>2018-01-23 13:00:00</td>\n",
       "      <td>3.244000</td>\n",
       "      <td>13</td>\n",
       "    </tr>\n",
       "    <tr>\n",
       "      <th>14438</th>\n",
       "      <td>2018-01-23 14:00:00</td>\n",
       "      <td>3.472000</td>\n",
       "      <td>14</td>\n",
       "    </tr>\n",
       "    <tr>\n",
       "      <th>14439</th>\n",
       "      <td>2018-01-23 15:00:00</td>\n",
       "      <td>3.127500</td>\n",
       "      <td>15</td>\n",
       "    </tr>\n",
       "  </tbody>\n",
       "</table>\n",
       "<p>14440 rows × 3 columns</p>\n",
       "</div>"
      ],
      "text/plain": [
       "               fecha_hora    Ta_Avg  hora\n",
       "0     2016-06-01 00:00:00 -0.356606     0\n",
       "1     2016-06-01 01:00:00 -0.803753     1\n",
       "2     2016-06-01 02:00:00 -1.104493     2\n",
       "3     2016-06-01 03:00:00 -1.351831     3\n",
       "4     2016-06-01 04:00:00 -1.227747     4\n",
       "...                   ...       ...   ...\n",
       "14435 2018-01-23 11:00:00  2.016000    11\n",
       "14436 2018-01-23 12:00:00  2.846000    12\n",
       "14437 2018-01-23 13:00:00  3.244000    13\n",
       "14438 2018-01-23 14:00:00  3.472000    14\n",
       "14439 2018-01-23 15:00:00  3.127500    15\n",
       "\n",
       "[14440 rows x 3 columns]"
      ]
     },
     "execution_count": 16,
     "metadata": {},
     "output_type": "execute_result"
    }
   ],
   "source": [
    "T2_limpio = step_test_nan(df_sin_outliers, col='Ta_Avg')\n",
    "T2_limpio"
   ]
  },
  {
   "cell_type": "markdown",
   "id": "7a693327",
   "metadata": {},
   "source": [
    "### Verificando graficamente"
   ]
  },
  {
   "cell_type": "code",
   "execution_count": 17,
   "id": "920772af",
   "metadata": {},
   "outputs": [
    {
     "data": {
      "text/plain": [
       "<Axes: xlabel='fecha_hora'>"
      ]
     },
     "execution_count": 17,
     "metadata": {},
     "output_type": "execute_result"
    },
    {
     "data": {
      "image/png": "[encoded data removed]",
      "text/plain": [
       "<Figure size 640x480 with 1 Axes>"
      ]
     },
     "metadata": {},
     "output_type": "display_data"
    }
   ],
   "source": [
    "T2_limpio.plot(x='fecha_hora', y='Ta_Avg')"
   ]
  },
  {
   "cell_type": "markdown",
   "id": "bd5620e1",
   "metadata": {},
   "source": [
    "**Observación:**  \n",
    "Los tres pasos pueden ser usados de forma secuencial para garantizar a integridade dos dados antes de sua análise ou assimilação em modelos."
   ]
  },
  {
   "cell_type": "markdown",
   "id": "ace13f13",
   "metadata": {},
   "source": [
    "### Guardando los datos"
   ]
  },
  {
   "cell_type": "code",
   "execution_count": 19,
   "id": "8c39f0cd",
   "metadata": {},
   "outputs": [],
   "source": [
    "filename = '../data/T2_G_QC.txt'\n",
    "df_sin_outliers[['fecha_hora', 'Ta_Avg']].to_csv(filename, index=False)"
   ]
  },
  {
   "cell_type": "markdown",
   "id": "70add05d",
   "metadata": {},
   "source": [
    "### Hacemos los mismo para los datos de la AWS de morrena"
   ]
  },
  {
   "cell_type": "code",
   "execution_count": 21,
   "id": "37bc79fc",
   "metadata": {},
   "outputs": [
    {
     "data": {
      "text/html": [
       "<div>\n",
       "<style scoped>\n",
       "    .dataframe tbody tr th:only-of-type {\n",
       "        vertical-align: middle;\n",
       "    }\n",
       "\n",
       "    .dataframe tbody tr th {\n",
       "        vertical-align: top;\n",
       "    }\n",
       "\n",
       "    .dataframe thead th {\n",
       "        text-align: right;\n",
       "    }\n",
       "</style>\n",
       "<table border=\"1\" class=\"dataframe\">\n",
       "  <thead>\n",
       "    <tr style=\"text-align: right;\">\n",
       "      <th></th>\n",
       "      <th>fecha_hora</th>\n",
       "      <th>Ta_Avg</th>\n",
       "    </tr>\n",
       "  </thead>\n",
       "  <tbody>\n",
       "    <tr>\n",
       "      <th>0</th>\n",
       "      <td>2016-06-01 00:00:00</td>\n",
       "      <td>1.113636</td>\n",
       "    </tr>\n",
       "    <tr>\n",
       "      <th>1</th>\n",
       "      <td>2016-06-01 01:00:00</td>\n",
       "      <td>0.589906</td>\n",
       "    </tr>\n",
       "    <tr>\n",
       "      <th>2</th>\n",
       "      <td>2016-06-01 02:00:00</td>\n",
       "      <td>0.103807</td>\n",
       "    </tr>\n",
       "    <tr>\n",
       "      <th>3</th>\n",
       "      <td>2016-06-01 03:00:00</td>\n",
       "      <td>0.156244</td>\n",
       "    </tr>\n",
       "    <tr>\n",
       "      <th>4</th>\n",
       "      <td>2016-06-01 04:00:00</td>\n",
       "      <td>0.214754</td>\n",
       "    </tr>\n",
       "    <tr>\n",
       "      <th>...</th>\n",
       "      <td>...</td>\n",
       "      <td>...</td>\n",
       "    </tr>\n",
       "    <tr>\n",
       "      <th>14434</th>\n",
       "      <td>2018-01-23 10:00:00</td>\n",
       "      <td>1.833746</td>\n",
       "    </tr>\n",
       "    <tr>\n",
       "      <th>14435</th>\n",
       "      <td>2018-01-23 11:00:00</td>\n",
       "      <td>2.589166</td>\n",
       "    </tr>\n",
       "    <tr>\n",
       "      <th>14436</th>\n",
       "      <td>2018-01-23 12:00:00</td>\n",
       "      <td>3.048399</td>\n",
       "    </tr>\n",
       "    <tr>\n",
       "      <th>14437</th>\n",
       "      <td>2018-01-23 13:00:00</td>\n",
       "      <td>3.979526</td>\n",
       "    </tr>\n",
       "    <tr>\n",
       "      <th>14438</th>\n",
       "      <td>2018-01-23 14:00:00</td>\n",
       "      <td>4.468320</td>\n",
       "    </tr>\n",
       "  </tbody>\n",
       "</table>\n",
       "<p>14439 rows × 2 columns</p>\n",
       "</div>"
      ],
      "text/plain": [
       "               fecha_hora    Ta_Avg\n",
       "0     2016-06-01 00:00:00  1.113636\n",
       "1     2016-06-01 01:00:00  0.589906\n",
       "2     2016-06-01 02:00:00  0.103807\n",
       "3     2016-06-01 03:00:00  0.156244\n",
       "4     2016-06-01 04:00:00  0.214754\n",
       "...                   ...       ...\n",
       "14434 2018-01-23 10:00:00  1.833746\n",
       "14435 2018-01-23 11:00:00  2.589166\n",
       "14436 2018-01-23 12:00:00  3.048399\n",
       "14437 2018-01-23 13:00:00  3.979526\n",
       "14438 2018-01-23 14:00:00  4.468320\n",
       "\n",
       "[14439 rows x 2 columns]"
      ]
     },
     "execution_count": 21,
     "metadata": {},
     "output_type": "execute_result"
    }
   ],
   "source": [
    "filename = '../data/AWS_M_T2.csv'\n",
    "df_T2_M_h = pd.read_csv(filename, sep='\\t')\n",
    "df_T2_M_h.fecha_hora = pd.to_datetime(df_T2_M_h.fecha_hora)\n",
    "df_T2_M_h"
   ]
  },
  {
   "cell_type": "code",
   "execution_count": 22,
   "id": "9d96326b",
   "metadata": {},
   "outputs": [
    {
     "data": {
      "text/html": [
       "<div>\n",
       "<style scoped>\n",
       "    .dataframe tbody tr th:only-of-type {\n",
       "        vertical-align: middle;\n",
       "    }\n",
       "\n",
       "    .dataframe tbody tr th {\n",
       "        vertical-align: top;\n",
       "    }\n",
       "\n",
       "    .dataframe thead th {\n",
       "        text-align: right;\n",
       "    }\n",
       "</style>\n",
       "<table border=\"1\" class=\"dataframe\">\n",
       "  <thead>\n",
       "    <tr style=\"text-align: right;\">\n",
       "      <th></th>\n",
       "      <th>fecha_hora</th>\n",
       "      <th>Ta_Avg</th>\n",
       "      <th>hora</th>\n",
       "    </tr>\n",
       "  </thead>\n",
       "  <tbody>\n",
       "    <tr>\n",
       "      <th>0</th>\n",
       "      <td>2016-06-01 00:00:00</td>\n",
       "      <td>1.113636</td>\n",
       "      <td>0</td>\n",
       "    </tr>\n",
       "    <tr>\n",
       "      <th>1</th>\n",
       "      <td>2016-06-01 01:00:00</td>\n",
       "      <td>0.589906</td>\n",
       "      <td>1</td>\n",
       "    </tr>\n",
       "    <tr>\n",
       "      <th>2</th>\n",
       "      <td>2016-06-01 02:00:00</td>\n",
       "      <td>0.103807</td>\n",
       "      <td>2</td>\n",
       "    </tr>\n",
       "    <tr>\n",
       "      <th>3</th>\n",
       "      <td>2016-06-01 03:00:00</td>\n",
       "      <td>0.156244</td>\n",
       "      <td>3</td>\n",
       "    </tr>\n",
       "    <tr>\n",
       "      <th>4</th>\n",
       "      <td>2016-06-01 04:00:00</td>\n",
       "      <td>0.214754</td>\n",
       "      <td>4</td>\n",
       "    </tr>\n",
       "    <tr>\n",
       "      <th>...</th>\n",
       "      <td>...</td>\n",
       "      <td>...</td>\n",
       "      <td>...</td>\n",
       "    </tr>\n",
       "    <tr>\n",
       "      <th>14434</th>\n",
       "      <td>2018-01-23 10:00:00</td>\n",
       "      <td>1.833746</td>\n",
       "      <td>10</td>\n",
       "    </tr>\n",
       "    <tr>\n",
       "      <th>14435</th>\n",
       "      <td>2018-01-23 11:00:00</td>\n",
       "      <td>2.589166</td>\n",
       "      <td>11</td>\n",
       "    </tr>\n",
       "    <tr>\n",
       "      <th>14436</th>\n",
       "      <td>2018-01-23 12:00:00</td>\n",
       "      <td>3.048399</td>\n",
       "      <td>12</td>\n",
       "    </tr>\n",
       "    <tr>\n",
       "      <th>14437</th>\n",
       "      <td>2018-01-23 13:00:00</td>\n",
       "      <td>3.979526</td>\n",
       "      <td>13</td>\n",
       "    </tr>\n",
       "    <tr>\n",
       "      <th>14438</th>\n",
       "      <td>2018-01-23 14:00:00</td>\n",
       "      <td>4.468320</td>\n",
       "      <td>14</td>\n",
       "    </tr>\n",
       "  </tbody>\n",
       "</table>\n",
       "<p>14439 rows × 3 columns</p>\n",
       "</div>"
      ],
      "text/plain": [
       "               fecha_hora    Ta_Avg  hora\n",
       "0     2016-06-01 00:00:00  1.113636     0\n",
       "1     2016-06-01 01:00:00  0.589906     1\n",
       "2     2016-06-01 02:00:00  0.103807     2\n",
       "3     2016-06-01 03:00:00  0.156244     3\n",
       "4     2016-06-01 04:00:00  0.214754     4\n",
       "...                   ...       ...   ...\n",
       "14434 2018-01-23 10:00:00  1.833746    10\n",
       "14435 2018-01-23 11:00:00  2.589166    11\n",
       "14436 2018-01-23 12:00:00  3.048399    12\n",
       "14437 2018-01-23 13:00:00  3.979526    13\n",
       "14438 2018-01-23 14:00:00  4.468320    14\n",
       "\n",
       "[14439 rows x 3 columns]"
      ]
     },
     "execution_count": 22,
     "metadata": {},
     "output_type": "execute_result"
    }
   ],
   "source": [
    "df_T2_M_h['hora'] = df_T2_M_h['fecha_hora'].dt.hour\n",
    "df_T2_M_h"
   ]
  },
  {
   "cell_type": "code",
   "execution_count": 23,
   "id": "59346546",
   "metadata": {},
   "outputs": [
    {
     "data": {
      "text/plain": [
       "<Figure size 1200x600 with 0 Axes>"
      ]
     },
     "metadata": {},
     "output_type": "display_data"
    },
    {
     "data": {
      "image/png": "[encoded data removed]",
      "text/plain": [
       "<Figure size 640x480 with 1 Axes>"
      ]
     },
     "metadata": {},
     "output_type": "display_data"
    }
   ],
   "source": [
    "plt.figure(figsize=(12, 6))\n",
    "df_T2_M_h.boxplot(column='Ta_Avg', by='hora', grid=False)\n",
    "plt.title('Boxplot de Ta_Avg por hora del día')\n",
    "plt.suptitle('')  # Quitar título automático de Pandas\n",
    "plt.xlabel('Hora del día')\n",
    "plt.ylabel('Ta_Avg')\n",
    "plt.show()"
   ]
  },
  {
   "cell_type": "code",
   "execution_count": 24,
   "id": "f4371f83",
   "metadata": {},
   "outputs": [
    {
     "name": "stderr",
     "output_type": "stream",
     "text": [
      "/tmp/ipykernel_9050/2798746866.py:1: DeprecationWarning: DataFrameGroupBy.apply operated on the grouping columns. This behavior is deprecated, and in a future version of pandas the grouping columns will be excluded from the operation. Either pass `include_groups=False` to exclude the groupings or explicitly select the grouping columns after groupby to silence this warning.\n",
      "  df_sin_outliers_M = df_T2_M_h.groupby('hora').apply(reemplazar_outliers).reset_index(drop=True).sort_values('fecha_hora').reset_index(drop=True)\n"
     ]
    }
   ],
   "source": [
    "df_sin_outliers_M = df_T2_M_h.groupby('hora').apply(reemplazar_outliers).reset_index(drop=True).sort_values('fecha_hora').reset_index(drop=True)"
   ]
  },
  {
   "cell_type": "code",
   "execution_count": 25,
   "id": "b34023ed",
   "metadata": {},
   "outputs": [
    {
     "data": {
      "text/plain": [
       "<Figure size 1200x600 with 0 Axes>"
      ]
     },
     "metadata": {},
     "output_type": "display_data"
    },
    {
     "data": {
      "image/png": "[encoded data removed]",
      "text/plain": [
       "<Figure size 640x480 with 1 Axes>"
      ]
     },
     "metadata": {},
     "output_type": "display_data"
    }
   ],
   "source": [
    "plt.figure(figsize=(12, 6))\n",
    "df_sin_outliers_M.boxplot(column='Ta_Avg', by='hora', grid=False)\n",
    "plt.title('Boxplot de Ta_Avg por hora del día')\n",
    "plt.suptitle('')  # Quitar título automático de Pandas\n",
    "plt.xlabel('Hora del día')\n",
    "plt.ylabel('Ta_Avg')\n",
    "plt.show()"
   ]
  },
  {
   "cell_type": "code",
   "execution_count": 27,
   "id": "a26ad895",
   "metadata": {},
   "outputs": [
    {
     "data": {
      "text/html": [
       "<div>\n",
       "<style scoped>\n",
       "    .dataframe tbody tr th:only-of-type {\n",
       "        vertical-align: middle;\n",
       "    }\n",
       "\n",
       "    .dataframe tbody tr th {\n",
       "        vertical-align: top;\n",
       "    }\n",
       "\n",
       "    .dataframe thead th {\n",
       "        text-align: right;\n",
       "    }\n",
       "</style>\n",
       "<table border=\"1\" class=\"dataframe\">\n",
       "  <thead>\n",
       "    <tr style=\"text-align: right;\">\n",
       "      <th></th>\n",
       "      <th>fecha_hora</th>\n",
       "      <th>Ta_Avg</th>\n",
       "      <th>hora</th>\n",
       "    </tr>\n",
       "  </thead>\n",
       "  <tbody>\n",
       "    <tr>\n",
       "      <th>0</th>\n",
       "      <td>2016-06-01 00:00:00</td>\n",
       "      <td>1.113636</td>\n",
       "      <td>0</td>\n",
       "    </tr>\n",
       "    <tr>\n",
       "      <th>1</th>\n",
       "      <td>2016-06-01 01:00:00</td>\n",
       "      <td>0.589906</td>\n",
       "      <td>1</td>\n",
       "    </tr>\n",
       "    <tr>\n",
       "      <th>2</th>\n",
       "      <td>2016-06-01 02:00:00</td>\n",
       "      <td>0.103807</td>\n",
       "      <td>2</td>\n",
       "    </tr>\n",
       "    <tr>\n",
       "      <th>3</th>\n",
       "      <td>2016-06-01 03:00:00</td>\n",
       "      <td>0.156244</td>\n",
       "      <td>3</td>\n",
       "    </tr>\n",
       "    <tr>\n",
       "      <th>4</th>\n",
       "      <td>2016-06-01 04:00:00</td>\n",
       "      <td>0.214754</td>\n",
       "      <td>4</td>\n",
       "    </tr>\n",
       "    <tr>\n",
       "      <th>...</th>\n",
       "      <td>...</td>\n",
       "      <td>...</td>\n",
       "      <td>...</td>\n",
       "    </tr>\n",
       "    <tr>\n",
       "      <th>14434</th>\n",
       "      <td>2018-01-23 10:00:00</td>\n",
       "      <td>1.833746</td>\n",
       "      <td>10</td>\n",
       "    </tr>\n",
       "    <tr>\n",
       "      <th>14435</th>\n",
       "      <td>2018-01-23 11:00:00</td>\n",
       "      <td>2.589166</td>\n",
       "      <td>11</td>\n",
       "    </tr>\n",
       "    <tr>\n",
       "      <th>14436</th>\n",
       "      <td>2018-01-23 12:00:00</td>\n",
       "      <td>3.048399</td>\n",
       "      <td>12</td>\n",
       "    </tr>\n",
       "    <tr>\n",
       "      <th>14437</th>\n",
       "      <td>2018-01-23 13:00:00</td>\n",
       "      <td>3.979526</td>\n",
       "      <td>13</td>\n",
       "    </tr>\n",
       "    <tr>\n",
       "      <th>14438</th>\n",
       "      <td>2018-01-23 14:00:00</td>\n",
       "      <td>4.468320</td>\n",
       "      <td>14</td>\n",
       "    </tr>\n",
       "  </tbody>\n",
       "</table>\n",
       "<p>14439 rows × 3 columns</p>\n",
       "</div>"
      ],
      "text/plain": [
       "               fecha_hora    Ta_Avg  hora\n",
       "0     2016-06-01 00:00:00  1.113636     0\n",
       "1     2016-06-01 01:00:00  0.589906     1\n",
       "2     2016-06-01 02:00:00  0.103807     2\n",
       "3     2016-06-01 03:00:00  0.156244     3\n",
       "4     2016-06-01 04:00:00  0.214754     4\n",
       "...                   ...       ...   ...\n",
       "14434 2018-01-23 10:00:00  1.833746    10\n",
       "14435 2018-01-23 11:00:00  2.589166    11\n",
       "14436 2018-01-23 12:00:00  3.048399    12\n",
       "14437 2018-01-23 13:00:00  3.979526    13\n",
       "14438 2018-01-23 14:00:00  4.468320    14\n",
       "\n",
       "[14439 rows x 3 columns]"
      ]
     },
     "execution_count": 27,
     "metadata": {},
     "output_type": "execute_result"
    }
   ],
   "source": [
    "T2_limpio_M = step_test_nan(df_sin_outliers_M, col='Ta_Avg')\n",
    "T2_limpio_M"
   ]
  },
  {
   "cell_type": "code",
   "execution_count": 28,
   "id": "f08c4656",
   "metadata": {},
   "outputs": [],
   "source": [
    "filename = '../data/T2_M_QC.txt'\n",
    "T2_limpio_M[['fecha_hora', 'Ta_Avg']].to_csv(filename, index=False)"
   ]
  }
 ],
 "metadata": {
  "kernelspec": {
   "display_name": "MassBalanceMachine",
   "language": "python",
   "name": "python3"
  },
  "language_info": {
   "codemirror_mode": {
    "name": "ipython",
    "version": 3
   },
   "file_extension": ".py",
   "mimetype": "text/x-python",
   "name": "python",
   "nbconvert_exporter": "python",
   "pygments_lexer": "ipython3",
   "version": "3.11.0"
  }
 },
 "nbformat": 4,
 "nbformat_minor": 5
}
