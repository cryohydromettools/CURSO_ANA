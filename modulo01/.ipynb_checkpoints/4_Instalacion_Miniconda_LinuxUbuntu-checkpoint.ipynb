{
 "cells": [
  {
   "cell_type": "markdown",
   "metadata": {},
   "source": [
    "# 1. Instalación de Miniconda en Linux Ubuntu\n",
    "\n",
    "## 1.1 ¿Qué es Miniconda?\n",
    "Miniconda es una versión minimalista de Anaconda que incluye:\n",
    "- Gestor de paquetes `conda`\n",
    "- Intérprete Python\n",
    "- Paquetes esenciales\n",
    "\n",
    "### 1.1.1 Ventajas para Linux Mint\n",
    "- No afecta al Python del sistema\n",
    "- Permite múltiples entornos aislados\n",
    "- Ideal para proyectos científicos\n",
    "\n",
    "![Componentes de instalación](https://www.fabriziomusacchio.com/assets/images/posts/miniconda_thumb.jpg)"
   ]
  },
  {
   "cell_type": "markdown",
   "metadata": {},
   "source": [
    "## 2. Requisitos previos\n",
    "\n",
    "### 2.1 Verificar sistema\n",
    "```bash\n",
    "# Ejecutar en terminal:\n",
    "lsb_release -a\n",
    "uname -m\n",
    "```\n",
    "\n",
    "### 2.2 Dependencias necesarias\n",
    "```bash\n",
    "sudo apt update\n",
    "sudo apt install libgl1-mesa-glx libegl1-mesa libxrandr2 libxrandr2 libxss1 libxcursor1 libxcomposite1 libasound2 libxi6 libxtst6\n",
    "```"
   ]
  },
  {
   "cell_type": "markdown",
   "metadata": {},
   "source": [
    "## 3. Descarga del instalador\n",
    "\n",
    "### 3.1 Obtener última versión\n",
    "```bash\n",
    "wget https://repo.anaconda.com/miniconda/Miniconda3-latest-Linux-x86_64.sh -O ~/miniconda.sh\n",
    "```\n",
    "\n",
    "### 3.2 Verificar integridad\n",
    "```bash\n",
    "sha256sum ~/miniconda.sh\n",
    "# Comparar con el hash publicado en https://docs.conda.io/en/latest/miniconda.html\n",
    "```"
   ]
  },
  {
   "cell_type": "markdown",
   "metadata": {},
   "source": [
    "## 4. Proceso de instalación\n",
    "\n",
    "### 4.1 Ejecutar instalador\n",
    "```bash\n",
    "bash ~/miniconda.sh\n",
    "```\n",
    "\n",
    "### 4.2 Siguiente el asistente\n",
    "1. **Licencia**: Presionar `Enter` para avanzar y luego `yes` para aceptar\n",
    "2. **Ubicación**: `/home/tu_usuario/miniconda3` (recomendado)\n",
    "3. **Inicialización**: Responder `yes` para configurar el PATH\n",
    "\n",
    "### 4.3 Finalizar instalación\n",
    "```bash\n",
    "source ~/.bashrc\n",
    "```"
   ]
  },
  {
   "cell_type": "markdown",
   "metadata": {},
   "source": [
    "## 5. Configuración inicial\n",
    "\n",
    "### 5.1 Actualizar conda\n",
    "```bash\n",
    "conda update conda\n",
    "```\n",
    "\n",
    "### 5.2 Configurar canales\n",
    "```bash\n",
    "conda config --add channels conda-forge\n",
    "conda config --set channel_priority strict\n",
    "```\n",
    "\n",
    "### 5.3 Crear primer entorno\n",
    "```bash\n",
    "conda create --name mint_env python=3.10\n",
    "conda activate mint_env\n",
    "```"
   ]
  },
  {
   "cell_type": "markdown",
   "metadata": {},
   "source": [
    "## 6. Integración con el sistema\n",
    "\n",
    "### 6.1 Acceso rápido desde terminal\n",
    "Agregar al final de `~/.bashrc`:\n",
    "```bash\n",
    "alias condaenv=\"conda activate mint_env\"\n",
    "```\n",
    "\n",
    "### 6.2 Desinstalación (si es necesario)\n",
    "```bash\n",
    "rm -rf ~/miniconda3\n",
    "# Eliminar líneas relacionadas en ~/.bashrc\n",
    "```"
   ]
  },
  {
   "cell_type": "markdown",
   "metadata": {},
   "source": [
    "## 7. Uso práctico\n",
    "\n",
    "### 7.1 Comandos esenciales\n",
    "```bash\n",
    "# Listar entornos\n",
    "conda env list\n",
    "\n",
    "# Instalar paquetes\n",
    "conda install numpy pandas matplotlib\n",
    "\n",
    "# Exportar entorno\n",
    "conda env export > environment.yml\n",
    "```\n",
    "\n",
    "### 7.2 Ejemplo: Entorno para ciencia de datos\n",
    "```bash\n",
    "conda create --name datascience python=3.9\n",
    "conda activate datascience\n",
    "conda install jupyter numpy pandas scikit-learn seaborn\n",
    "```"
   ]
  },
  {
   "cell_type": "markdown",
   "metadata": {},
   "source": [
    "## 8. Solución de problemas\n",
    "\n",
    "### 8.1 Error: \"Command not found\"\n",
    "```bash\n",
    "export PATH=~/miniconda3/bin:$PATH\n",
    "source ~/.bashrc\n",
    "```\n",
    "\n",
    "### 8.2 Conflictos de paquetes\n",
    "```bash\n",
    "conda clean --all\n",
    "conda update --all\n",
    "```\n",
    "\n",
    "### 8.3 Restablecer configuración\n",
    "```bash\n",
    "conda config --remove-key channels\n",
    "```"
   ]
  }
 ],
 "metadata": {
  "kernelspec": {
   "display_name": "Python 3 (ipykernel)",
   "language": "python",
   "name": "python3"
  },
  "language_info": {
   "codemirror_mode": {
    "name": "ipython",
    "version": 3
   },
   "file_extension": ".py",
   "mimetype": "text/x-python",
   "name": "python",
   "nbconvert_exporter": "python",
   "pygments_lexer": "ipython3",
   "version": "3.13.2"
  }
 },
 "nbformat": 4,
 "nbformat_minor": 4
}
