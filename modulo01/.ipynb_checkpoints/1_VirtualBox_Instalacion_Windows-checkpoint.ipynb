{
 "cells": [
  {
   "cell_type": "markdown",
   "metadata": {},
   "source": [
    "# 1. Guía de Instalación de VirtualBox en Windows\n",
    "\n",
    "## 1.1 ¿Qué es VirtualBox?\n",
    "\n",
    "VirtualBox es un software de virtualización de código abierto desarrollado por Oracle que permite crear y ejecutar máquinas virtuales en un ordenador.\n",
    "\n",
    "### 1.1.1 Características principales:\n",
    "- Multiplataforma (Windows, Linux, macOS, Solaris)\n",
    "- Soporte para múltiples sistemas operativos invitados\n",
    "- Virtualización de hardware (CPU, red, almacenamiento)\n",
    "- Snapshots (instantáneas del estado de la máquina virtual)\n",
    "\n",
    "![Logo VirtualBox](https://upload.wikimedia.org/wikipedia/commons/d/d5/Virtualbox_logo.png)\n",
    "\n",
    "## 1.2 Requisitos del sistema\n",
    "\n",
    "### 1.2.1 Requisitos mínimos:\n",
    "- Windows 8.1 o superior\n",
    "- Procesador con soporte de virtualización\n",
    "- 4 GB de RAM mínimo\n",
    "\n",
    "### 1.2.2 Requisitos recomendados:\n",
    "- Windows 10/11\n",
    "- 8 GB de RAM o más\n",
    "- SSD para mejor rendimiento"
   ]
  },
  {
   "cell_type": "markdown",
   "metadata": {},
   "source": [
    "## 2. Pasos para instalar VirtualBox en Windows\n",
    "\n",
    "### 2.1 Descargar el instalador\n",
    "\n",
    "1. Visita el sitio oficial: [https://www.virtualbox.org/](https://www.virtualbox.org/)\n",
    "2. Haz clic en \"Download VirtualBox\"\n",
    "3. Selecciona \"Windows hosts\"\n",
    "\n",
    "![VBOX](./imagenes/0_Virtualbox.jpeg)\n",
    "\n",
    "### 2.2 Ejecutar el instalador\n",
    "\n",
    "1. Localiza el archivo .exe descargado\n",
    "2. Haz doble clic para iniciar\n",
    "3. Confirma el control de cuentas de usuario\n"
   ]
  },
  {
   "cell_type": "markdown",
   "metadata": {},
   "source": [
    "### 2.3 Asistente de instalación\n",
    "\n",
    "#### 2.3.1 Configuración inicial:\n",
    "1. Ventana de bienvenida → \"Next\"\n",
    "2. Selección de componentes → Dejar valores por defecto\n",
    "\n",
    "#### 2.3.2 Opciones avanzadas:\n",
    "1. Ubicación de instalación → Predeterminada\n",
    "2. Crear acceso directo → Opcional\n",
    "3. Advertencia de red → \"Yes\"\n",
    "\n",
    "![Componentes de instalación](https://media.geeksforgeeks.org/wp-content/uploads/20200123114440/VirtualBox-Windows-Installation-01.png)"
   ]
  },
  {
   "cell_type": "markdown",
   "metadata": {},
   "source": [
    "### 2.4 Completar la instalación\n",
    "\n",
    "#### 2.4.1 Proceso de instalación:\n",
    "1. Haz clic en \"Install\"\n",
    "2. Acepta los controladores que solicite Windows\n",
    "3. Espera a que finalice (varios minutos)\n",
    "\n",
    "#### 2.4.2 Finalización:\n",
    "1. Haz clic en \"Finish\"\n",
    "2. Opción para iniciar VirtualBox automáticamente\n",
    "\n",
    "![Instalación completada](https://media.geeksforgeeks.org/wp-content/uploads/20200123114501/VirtualBox-Windows-Installation-07.png)\n",
    "\n",
    "### 2.5 Verificar la instalación\n",
    "\n",
    "1. Abre VirtualBox desde el menú Inicio\n",
    "2. Confirma que la interfaz principal se muestra correctamente\n",
    "\n",
    "![Interfaz principal](https://media.geeksforgeeks.org/wp-content/uploads/20200123114507/VirtualBox-Windows-Installation-08.png)"
   ]
  },
  {
   "cell_type": "markdown",
   "metadata": {},
   "source": [
    "## 3. Primeros pasos con VirtualBox\n",
    "\n",
    "### 3.1 Crear una máquina virtual\n",
    "\n",
    "1. Haz clic en \"Nueva\"\n",
    "2. Configuración básica:\n",
    "   - Nombre\n",
    "   - Tipo de SO\n",
    "   - Versión\n",
    "\n",
    "### 3.2 Asignar recursos\n",
    "\n",
    "1. Memoria RAM (mínimo 2048 MB)\n",
    "2. Disco duro virtual (VDI recomendado)\n",
    "3. Tamaño del disco (20GB mínimo para sistemas modernos)\n",
    "\n",
    "## 4. Consideraciones adicionales\n",
    "\n",
    "### 4.1 Optimización\n",
    "- Habilita virtualización en BIOS/UEFI\n",
    "- Instala Guest Additions\n",
    "\n",
    "### 4.2 Solución de problemas\n",
    "- Error VT-x/AMD-V: Habilitar en BIOS\n",
    "- Problemas de red: Reinstalar adaptadores de red virtuales\n",
    "\n",
    "## 5. Conclusión\n",
    "\n",
    "VirtualBox proporciona una solución completa de virtualización con una instalación sencilla en Windows."
   ]
  }
 ],
 "metadata": {
  "kernelspec": {
   "display_name": "Python 3 (ipykernel)",
   "language": "python",
   "name": "python3"
  },
  "language_info": {
   "codemirror_mode": {
    "name": "ipython",
    "version": 3
   },
   "file_extension": ".py",
   "mimetype": "text/x-python",
   "name": "python",
   "nbconvert_exporter": "python",
   "pygments_lexer": "ipython3",
   "version": "3.13.2"
  }
 },
 "nbformat": 4,
 "nbformat_minor": 4
}
