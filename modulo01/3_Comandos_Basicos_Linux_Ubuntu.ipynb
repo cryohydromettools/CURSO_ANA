{
 "cells": [
  {
   "cell_type": "markdown",
   "metadata": {},
   "source": [
    "# Comandos Básicos de Linux Mint\n",
    "\n",
    "![Logo Ubuntu](https://assets.ubuntu.com/v1/29985a98-ubuntu-logo32.png)\n",
    "\n",
    "## 1. Introducción\n",
    "Este notebook contiene los comandos esenciales para comenzar a usar Linux Mint, organizados por categorías con ejemplos prácticos."
   ]
  },
  {
   "cell_type": "markdown",
   "metadata": {},
   "source": [
    "## 2. Comandos del Sistema\n",
    "\n",
    "### 2.1 Información del sistema\n",
    "```bash\n",
    "# Versión sistema\n",
    "lsb_release -a\n",
    "\n",
    "# Versión del kernel\n",
    "uname -r\n",
    "\n",
    "# Tiempo de actividad del sistema\n",
    "uptime\n",
    "```\n",
    "\n",
    "### 2.2 Gestión de paquetes\n",
    "```bash\n",
    "# Actualizar lista de paquetes\n",
    "sudo apt update\n",
    "\n",
    "# Actualizar paquetes instalados\n",
    "sudo apt upgrade\n",
    "\n",
    "# Instalar un programa\n",
    "sudo apt install nombre_paquete\n",
    "\n",
    "# Eliminar un programa\n",
    "sudo apt remove nombre_paquete\n",
    "```"
   ]
  },
  {
   "cell_type": "markdown",
   "metadata": {},
   "source": [
    "## 3. Manejo de Archivos y Directorios\n",
    "\n",
    "### 3.1 Navegación\n",
    "```bash\n",
    "# Mostrar directorio actual\n",
    "pwd\n",
    "\n",
    "# Listar archivos (detallado)\n",
    "ls -l\n",
    "\n",
    "# Cambiar de directorio\n",
    "cd /ruta/directorio\n",
    "\n",
    "# Volver al home\n",
    "cd ~\n",
    "```\n",
    "\n",
    "### 3.2 Manipulación de archivos\n",
    "```bash\n",
    "# Copiar archivo\n",
    "cp origen destino\n",
    "\n",
    "# Mover/renombrar\n",
    "mv viejo nuevo\n",
    "\n",
    "# Eliminar archivo\n",
    "rm archivo\n",
    "\n",
    "# Crear directorio\n",
    "mkdir nombre_directorio\n",
    "```"
   ]
  },
  {
   "cell_type": "markdown",
   "metadata": {},
   "source": [
    "## 4. Procesos y Usuarios\n",
    "\n",
    "### 4.1 Gestión de procesos\n",
    "```bash\n",
    "# Mostrar procesos en ejecución\n",
    "top\n",
    "\n",
    "# Versión simplificada\n",
    "htop\n",
    "\n",
    "# Matar proceso\n",
    "kill PID\n",
    "```\n",
    "\n",
    "### 4.2 Usuarios y permisos\n",
    "```bash\n",
    "# Cambiar permisos\n",
    "chmod 755 archivo\n",
    "\n",
    "# Cambiar propietario\n",
    "sudo chown usuario:grupo archivo\n",
    "\n",
    "# Añadir usuario\n",
    "sudo adduser nombre_usuario\n",
    "```"
   ]
  },
  {
   "cell_type": "markdown",
   "metadata": {},
   "source": [
    "## 5. Red y Conexiones\n",
    "\n",
    "### 5.1 Configuración de red\n",
    "```bash\n",
    "# Dirección IP\n",
    "ip a\n",
    "\n",
    "# Conexiones activas\n",
    "ss -tulnp\n",
    "\n",
    "# Prueba de conectividad\n",
    "ping google.com\n",
    "```\n",
    "\n",
    "### 5.2 SSH y transferencias\n",
    "```bash\n",
    "# Conectar por SSH\n",
    "ssh usuario@direccion_ip\n",
    "\n",
    "# Copiar archivos remotos (SCP)\n",
    "scp usuario@host:archivo local\n",
    "```"
   ]
  },
  {
   "cell_type": "markdown",
   "metadata": {},
   "source": [
    "## 6. Búsquedas y Texto\n",
    "\n",
    "### 6.1 Buscar archivos\n",
    "```bash\n",
    "# Buscar por nombre\n",
    "find /ruta -name \"*.txt\"\n",
    "\n",
    "# Buscar contenido\n",
    "grep \"texto\" archivo\n",
    "```\n",
    "\n",
    "### 6.2 Manejo de texto\n",
    "```bash\n",
    "# Ver contenido\n",
    "cat archivo.txt\n",
    "\n",
    "# Ver por páginas\n",
    "less archivo.txt\n",
    "\n",
    "# Contar líneas\n",
    "wc -l archivo.txt\n",
    "```"
   ]
  },
  {
   "cell_type": "markdown",
   "metadata": {},
   "source": [
    "## 7. Atajos Útiles\n",
    "\n",
    "```bash\n",
    "# Limpiar terminal\n",
    "clear\n",
    "\n",
    "# Historial de comandos\n",
    "history\n",
    "\n",
    "# Ejecutar comando anterior con sudo\n",
    "sudo !!\n",
    "\n",
    "# Autocompletar con TAB\n",
    "# Escribir primeras letras y presionar TAB\n",
    "```"
   ]
  },
  {
   "cell_type": "markdown",
   "metadata": {},
   "source": [
    "## 8. Prácticas Recomendadas\n",
    "\n",
    "1. **Usar sudo con cuidado**: Solo cuando sea necesario\n",
    "2. **Actualizar regularmente**: `sudo apt update && sudo apt upgrade`\n",
    "3. **Hacer backups**: De archivos importantes\n",
    "4. **Documentar cambios**: En archivos de configuración\n",
    "5. **Probar comandos**: Antes de ejecutarlos en producción"
   ]
  },
  {
   "cell_type": "code",
   "execution_count": null,
   "metadata": {},
   "outputs": [],
   "source": []
  }
 ],
 "metadata": {
  "kernelspec": {
   "display_name": "Python 3 (ipykernel)",
   "language": "python",
   "name": "python3"
  },
  "language_info": {
   "codemirror_mode": {
    "name": "ipython",
    "version": 3
   },
   "file_extension": ".py",
   "mimetype": "text/x-python",
   "name": "python",
   "nbconvert_exporter": "python",
   "pygments_lexer": "ipython3",
   "version": "3.13.2"
  }
 },
 "nbformat": 4,
 "nbformat_minor": 4
}
