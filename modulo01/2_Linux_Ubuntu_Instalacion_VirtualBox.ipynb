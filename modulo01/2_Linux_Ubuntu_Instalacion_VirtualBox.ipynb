{
 "cells": [
  {
   "cell_type": "markdown",
   "metadata": {},
   "source": [
    "# 1. Guía de Instalación de Linux Ubuntu en VirtualBox\n",
    "\n",
    "## 1.1 Introducción a Linux Ubuntu\n",
    "\n",
    "### 1.1.1 ¿Qué es Linux Ubuntu?\n",
    "**Ubuntu** es una distribución del sistema operativo Linux basada en Debian. Es conocida por su facilidad de uso, estabilidad, seguridad y gran comunidad de soporte. Es ampliamente utilizada tanto por usuarios nuevos como avanzados.\n",
    "\n",
    "### 1.1.2 Características principales\n",
    "- Entorno de escritorio GNOME por defecto (aunque también están disponibles variantes como KDE, Xfce y MATE).\n",
    "- Alta compatibilidad con hardware moderno.\n",
    "- Gran cantidad de software libre y de código abierto disponible.\n",
    "- Centro de software intuitivo para instalar aplicaciones fácilmente.\n",
    "- Soporte a largo plazo (LTS) con actualizaciones de seguridad durante cinco años.\n",
    "\n",
    "![Logo Ubuntu](https://assets.ubuntu.com/v1/29985a98-ubuntu-logo32.png)\n",
    "\n",
    "## 1.2 Requisitos del sistema\n",
    "\n",
    "| Componente     | Mínimo        | Recomendado     |\n",
    "|----------------|---------------|-----------------|\n",
    "| RAM            | 2 GB          | 4 GB o más      |\n",
    "| Almacenamiento | 25 GB         | 30 GB o más     |\n",
    "| CPU            | Dual-core 2 GHz | Quad-core o superior |\n"
   ]
  },
  {
   "cell_type": "markdown",
   "metadata": {},
   "source": [
    "## 2. Preparación para la instalación\n",
    "\n",
    "### 2.1 Descargar Linux Ubuntu\n",
    "1. Visitar la página de [descarga ](https://releases.ubuntu.com/22.04/?_ga=2.149898549.2084151835.1707729318-1126754318.1683186906&_gl=1*jqsfx1*_gcl_au*NzA0ODU0MzYxLjE3NDcyMjU0MTg)\n",
    "2. Seleccionar versión (Cinnamon recomendada)\n",
    "3. Descargar imagen ISO (∼4GB)\n",
    "\n",
    "![Ubuntu](./imagenes/1_ubuntu.jpeg)\n",
    "\n",
    "### 2.2 Configurar VirtualBox\n",
    "1. Abrir VirtualBox\n",
    "2. Click en \"Nueva\"\n",
    "3. Nombre: \"Ubuntu\"\n",
    "4. Tipo: Linux\n",
    "5. Versión: Ubuntu (64-bit)\n",
    "\n",
    "![Nueva máquina virtual](https://media.geeksforgeeks.org/wp-content/uploads/20200124154950/Ubuntu-VirtualBox-Installation-00.png)"
   ]
  },
  {
   "cell_type": "markdown",
   "metadata": {},
   "source": [
    "## 3. Configuración de la máquina virtual\n",
    "\n",
    "### 3.1 Asignación de recursos\n",
    "1. Memoria RAM: 4096 MB (para buen rendimiento)\n",
    "2. Disco duro: 25 GB (VDI, asignación dinámica)\n",
    "\n",
    "### 3.2 Configuración adicional\n",
    "1. Procesadores: 2 CPUs\n",
    "2. Aceleración: Habilitar VT-x/AMD-V\n",
    "3. Gráficos: 128 MB VRAM\n",
    "\n",
    "## 4. Proceso de instalación\n",
    "\n",
    "### 4.1 Iniciar la instalación\n",
    "1. Seleccionar ISO descargada\n",
    "2. Iniciar máquina virtual\n",
    "3. Elegir \"Start Linux Ubuntu\"\n",
    "\n",
    "![Menú de inicio](https://media.geeksforgeeks.org/wp-content/uploads/20200124165610/Ubuntu-VirtualBox-Installation-071.png)"
   ]
  },
  {
   "cell_type": "markdown",
   "metadata": {},
   "source": [
    "### 4.2 Instalación paso a paso\n",
    "\n",
    "#### 4.2.1 Configuración inicial\n",
    "1. Doble-click en \"Install Linux Ubuntu\n",
    "2. Seleccionar idioma\n",
    "3. Distribución de teclado\n",
    "\n",
    "#### 4.2.2 Particionado de disco\n",
    "1. Elegir \"Borrar disco e instalar Linux Ubuntu\"\n",
    "2. Confirmar escritura de cambios\n",
    "\n",
    "#### 4.2.3 Configuración regional\n",
    "1. Seleccionar zona horaria\n",
    "2. Ingresar datos de usuario:\n",
    "   - Nombre completo\n",
    "   - Nombre de equipo\n",
    "   - Contraseña\n",
    "\n",
    "![Pantalla de instalación](https://media.geeksforgeeks.org/wp-content/uploads/20200124165629/Ubuntu-VirtualBox-Installation-16.jpg)"
   ]
  },
  {
   "cell_type": "markdown",
   "metadata": {},
   "source": [
    "## 5. Post-instalación\n",
    "\n",
    "### 5.1 Primeros pasos\n",
    "1. Reiniciar la máquina virtual\n",
    "2. Remover medio de instalación\n",
    "3. Iniciar sesión\n",
    "\n",
    "### 5.2 Instalar Guest Additions\n",
    "1. Menú Devices > Insert Guest Additions CD image\n",
    "2. Ejecutar desde la terminal:\n",
    "```bash\n",
    "sudo apt update\n",
    "sudo apt install build-essential dkms linux-headers-$(uname -r)\n",
    "sudo ./VBoxLinuxAdditions.run\n",
    "```\n",
    "\n",
    "### 5.3 Actualizar sistema\n",
    "```bash\n",
    "sudo apt update && sudo apt upgrade -y\n",
    "```"
   ]
  },
  {
   "cell_type": "markdown",
   "metadata": {},
   "source": [
    "## 6. Personalización básica\n",
    "\n",
    "### 6.1 Ajustes iniciales\n",
    "1. Configurar resolución de pantalla\n",
    "2. Habilitar efectos de escritorio\n",
    "3. Personalizar panel inferior\n",
    "\n",
    "### 6.2 Software recomendado\n",
    "- Firefox (preinstalado)\n",
    "- LibreOffice (suite ofimática)\n",
    "- GIMP (edición de imágenes)\n",
    "- VLC (reproductor multimedia)\n",
    "\n",
    "## 7. Solución de problemas comunes\n",
    "\n",
    "### 7.1 Problemas de pantalla\n",
    "- Cambiar controlador gráfico a VBoxSVGA\n",
    "- Aumentar memoria de video\n",
    "\n",
    "### 7.2 Problemas de red\n",
    "- Verificar configuración de adaptador (NAT recomendado)\n",
    "- Reiniciar servicio de red:\n",
    "```bash\n",
    "sudo service network-manager restart\n",
    "```"
   ]
  },
  {
   "cell_type": "markdown",
   "metadata": {},
   "source": [
    "## 8. Conclusión\n",
    "\n",
    "Ubuntu ofrece una excelente experiencia de usuario en VirtualBox:\n",
    "- Fácil instalación\n",
    "- Buen rendimiento general\n",
    "- Ideal para principiantes en Linux\n",
    "- Amplio soporte de la comunidad\n",
    "- Alternativa libre a sistemas operativos comerciales\n",
    "\n",
    "### 8.1 Recursos adicionales\n",
    "- [Documentación oficial de Ubuntu](https://help.ubuntu.com/)\n",
    "- [Comunidad Ubuntu en español](https://ubuntuespana.org/)\n",
    "- [Ask Ubuntu (preguntas y respuestas)](https://askubuntu.com/)\n",
    "- Encuentre una guia completa de la invitación de virtualbox y ubuntu en [geeksforgeeks](https://www.geeksforgeeks.org/how-to-install-ubuntu-on-virtualbox/)\n"
   ]
  }
 ],
 "metadata": {
  "kernelspec": {
   "display_name": "Python 3 (ipykernel)",
   "language": "python",
   "name": "python3"
  },
  "language_info": {
   "codemirror_mode": {
    "name": "ipython",
    "version": 3
   },
   "file_extension": ".py",
   "mimetype": "text/x-python",
   "name": "python",
   "nbconvert_exporter": "python",
   "pygments_lexer": "ipython3",
   "version": "3.13.2"
  }
 },
 "nbformat": 4,
 "nbformat_minor": 4
}
