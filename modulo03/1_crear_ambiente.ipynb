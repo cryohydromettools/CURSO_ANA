{
 "cells": [
  {
   "cell_type": "markdown",
   "id": "e97ef0fb",
   "metadata": {},
   "source": [
    "# Crear un Ambiente con Conda\n",
    "\n",
    "Este documento describe los pasos para crear y gestionar un ambiente virtual usando **Conda**.\n",
    "\n",
    "\n",
    "## Crear un nuevo ambiente\n",
    "\n",
    "```bash\n",
    "conda create --name mi_entorno python=3.11\n",
    "\n",
    "```\n",
    "\n",
    "## Activar el ambiente\n",
    "\n",
    "```bash\n",
    "conda activate mi_entorno\n",
    "\n",
    "```\n",
    "\n",
    "## Instalar paquetes necesarios\n",
    "\n",
    "```bash\n",
    "conda install numpy pandas matplotlib\n",
    "\n",
    "```\n",
    "También puedes instalar paquetes desde el canal `conda-forge`:\n",
    "\n",
    "```bash\n",
    "\n",
    "conda install -c conda-forge xarray netcdf4\n",
    "\n",
    "```\n"
   ]
  }
 ],
 "metadata": {
  "language_info": {
   "name": "python"
  }
 },
 "nbformat": 4,
 "nbformat_minor": 5
}
