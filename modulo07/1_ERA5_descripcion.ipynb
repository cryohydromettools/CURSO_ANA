{
 "cells": [
  {
   "cell_type": "markdown",
   "metadata": {},
   "source": [
    "# Descargar datos de reanálisis **ERA5**"
   ]
  },
  {
   "cell_type": "markdown",
   "metadata": {},
   "source": [
    "Los datos de reanálisis proporcionan la imagen más completa posible actualmente del tiempo y el clima pasados.\n",
    "\n",
    "Son una combinación de observaciones con predicciones meteorológicas pasadas a corto plazo que se repiten con modelos modernos de predicción meteorológica. Son globalmente completos y coherentes en el tiempo y, a veces, se denominan \"mapas sin espacios\".\n",
    "\n",
    "Existen varias fuentes de datos de reanálisis disponibles (e.g., NCEP/NCAR, ERA5, ERA5-Land, etc). [Aquí](https://climatedataguide.ucar.edu/climate-data/atmospheric-reanalysis-overview-comparison-tables) podemos encontrar un resumen de los datos de reanálisis disponibles. \n",
    "\n",
    "**¿Cómo se generan estos datos?**\n",
    "\n",
    "El reanálisis combina predicciones meteorológicas pasadas a corto plazo con observaciones a través de la asimilación de datos. El proceso imita la producción de pronósticos meteorológicos diarios, que utilizan un análisis del estado actual del sistema terrestre como punto de partida. El análisis es una combinación de observaciones físicamente coherentes con un pronóstico a corto plazo basado en el análisis anterior.\n",
    "\n",
    "<img src='https://www.ecmwf.int/sites/default/files/Fact-sheet-reanalysis-Fig-1-v2-690x460px_6.jpg?27827' width='800'>"
   ]
  },
  {
   "cell_type": "markdown",
   "metadata": {},
   "source": [
    "## Reanálisis **ERA5**"
   ]
  },
  {
   "cell_type": "markdown",
   "metadata": {},
   "source": [
    "ERA5 es el reanálisis del ECMWF de quinta generación para el clima y el tiempo global durante las últimas 4 a 7 décadas. Actualmente, los datos están disponibles desde 1950, divididos en entradas de [Climate Data Store](https://cds.climate.copernicus.eu/cdsapp#!/dataset/reanalysis-era5-single-levels?tab=overview) para 1950-1978 (extensión posterior preliminar) y desde 1979 en adelante (versión final más actualizaciones oportunas, esta página). ERA5 reemplaza el reanálisis ERA-Interim.\n",
    "\n",
    "<img src='https://climate.copernicus.eu/sites/default/files/custom-uploads/Page%20Uploads/ERA5%20for%20policymakers/Picture3.png' width='800'>"
   ]
  },
  {
   "cell_type": "markdown",
   "metadata": {},
   "source": [
    "## Registrarse en CDS\n",
    "\n",
    "Si aún no estás registrado en el CDS, entrá [aquí](https://cds.climate.copernicus.eu/) para registrarte. Es importante hacer este paso para descargar datos desde CDS!!!"
   ]
  },
  {
   "cell_type": "markdown",
   "metadata": {},
   "source": [
    "## Descargar ERA5 a través de la API de CDS"
   ]
  },
  {
   "cell_type": "markdown",
   "metadata": {},
   "source": [
    "### Instalar `cdsapi`\n",
    "\n",
    "Si aún no tiene instalado el módulo `cdsapi`, instale usando el siguiente comando en **anaconda prompt**:\n",
    "\n",
    "``` python\n",
    "\n",
    "conda install -c conda-forge cdsapi \n",
    "\n",
    "```\n",
    "Luego configure tu computadora con tu usuario y clave proporcionados por el **CDS**.\n",
    "> Deberás crear un archivo **.cdsapirc** en tu home y copiar tu usuario y clave. Sigue los pasos [aquí](https://cds.climate.copernicus.eu/how-to-api) para hacer esto."
   ]
  },
  {
   "cell_type": "markdown",
   "metadata": {},
   "source": [
    "``` shell \n",
    "# para instalar directamente las librerias podemos utilizar el siguiente comando\n",
    "# cuidado, no olvide en colocar el --yes porque sino veras un mensaje de instalacion que no podras responder\n",
    "#!conda install -c conda-forge cdsapi\n",
    "\n",
    "!conda install --yes -c conda-forge cdsapi\n",
    "\n",
    "```"
   ]
  }
 ],
 "metadata": {
  "kernelspec": {
   "display_name": "Python 3 (ipykernel)",
   "language": "python",
   "name": "python3"
  },
  "language_info": {
   "codemirror_mode": {
    "name": "ipython",
    "version": 3
   },
   "file_extension": ".py",
   "mimetype": "text/x-python",
   "name": "python",
   "nbconvert_exporter": "python",
   "pygments_lexer": "ipython3",
   "version": "3.13.2"
  },
  "vscode": {
   "interpreter": {
    "hash": "916dbcbb3f70747c44a77c7bcd40155683ae19c65e1c03b4aa3499c5328201f1"
   }
  }
 },
 "nbformat": 4,
 "nbformat_minor": 4
}
