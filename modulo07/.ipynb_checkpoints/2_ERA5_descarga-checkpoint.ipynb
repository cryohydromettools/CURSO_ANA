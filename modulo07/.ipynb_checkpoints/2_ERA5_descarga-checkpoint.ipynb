{
 "cells": [
  {
   "cell_type": "markdown",
   "id": "6bfb5dc0",
   "metadata": {},
   "source": [
    "## Descarga de datos ERA5 T2 hora"
   ]
  },
  {
   "cell_type": "markdown",
   "id": "0f991961",
   "metadata": {},
   "source": [
    "## Importar libreria"
   ]
  },
  {
   "cell_type": "code",
   "execution_count": null,
   "id": "136d83be",
   "metadata": {},
   "outputs": [],
   "source": [
    "import os\n",
    "import cdsapi  # Cliente para acceder a la API de Copernicus"
   ]
  },
  {
   "cell_type": "markdown",
   "id": "9049cfae",
   "metadata": {},
   "source": [
    "## Codigo para descargar ERA5"
   ]
  },
  {
   "cell_type": "code",
   "execution_count": null,
   "id": "351109a0",
   "metadata": {},
   "outputs": [],
   "source": [
    "# Ruta donde se guardará el archivo descargado\n",
    "output_dir = '../data/ERA5/'\n",
    "\n",
    "# Crear una instancia del cliente CDS (Climate Data Store)\n",
    "client = cdsapi.Client()\n",
    "\n",
    "# Nombre del dataset: ERA5 con variables de nivel único (superficie)\n",
    "dataset = \"reanalysis-era5-single-levels\"\n",
    "\n",
    "# Diccionario con la solicitud de datos\n",
    "request = {\n",
    "    \"product_type\": [\"reanalysis\"],  # Tipo de producto: reanálisis\n",
    "    \"variable\": [\"2m_temperature\"],  # Variable: temperatura a 2 metros\n",
    "    \"year\": [\"2017\"],  # Año de los datos\n",
    "\n",
    "    # Todos los meses del año\n",
    "    \"month\": [\n",
    "        \"01\", \"02\", \"03\",\n",
    "        \"04\", \"05\", \"06\",\n",
    "        \"07\", \"08\", \"09\",\n",
    "        \"10\", \"11\", \"12\"\n",
    "    ],\n",
    "\n",
    "    # Todos los días del mes\n",
    "    \"day\": [\n",
    "        \"01\", \"02\", \"03\",\n",
    "        \"04\", \"05\", \"06\",\n",
    "        \"07\", \"08\", \"09\",\n",
    "        \"10\", \"11\", \"12\",\n",
    "        \"13\", \"14\", \"15\",\n",
    "        \"16\", \"17\", \"18\",\n",
    "        \"19\", \"20\", \"21\",\n",
    "        \"22\", \"23\", \"24\",\n",
    "        \"25\", \"26\", \"27\",\n",
    "        \"28\", \"29\", \"30\",\n",
    "        \"31\"\n",
    "    ],\n",
    "\n",
    "    # Horas del día en UTC\n",
    "    \"time\": [\n",
    "        \"00:00\", \"01:00\", \"02:00\",\n",
    "        \"03:00\", \"04:00\", \"05:00\",\n",
    "        \"06:00\", \"07:00\", \"08:00\",\n",
    "        \"09:00\", \"10:00\", \"11:00\",\n",
    "        \"12:00\", \"13:00\", \"14:00\",\n",
    "        \"15:00\", \"16:00\", \"17:00\",\n",
    "        \"18:00\", \"19:00\", \"20:00\",\n",
    "        \"21:00\", \"22:00\", \"23:00\"\n",
    "    ],\n",
    "\n",
    "    \"data_format\": \"netcdf\",           # Formato de salida: NetCDF\n",
    "    \"download_format\": \"unarchived\",   # Descargar sin compresión\n",
    "    \"area\": [-8.5, -77.85, -10, -76.95]  # Región geográfica [N, W, S, E]\n",
    "}\n",
    "\n",
    "# Ruta completa del archivo de salida\n",
    "target = os.path.join(output_dir, f\"ERA5_{2017}_T2_CB.nc\")\n",
    "\n",
    "# Mensaje informativo\n",
    "print(f\"Downloading {target}...\")\n",
    "\n",
    "# Solicitar y descargar los datos\n",
    "client.retrieve(dataset, request, target)\n"
   ]
  },
  {
   "cell_type": "code",
   "execution_count": null,
   "id": "f386bba1",
   "metadata": {},
   "outputs": [],
   "source": [
    "import cdsapi\n",
    "import os\n",
    "output_dir = '../data/ERA5/'\n",
    "client = cdsapi.Client()\n",
    "dataset = \"reanalysis-era5-single-levels\"\n",
    "request = {\n",
    "    \"product_type\": [\"reanalysis\"],\n",
    "    \"variable\": [\"geopotential\"],\n",
    "    \"year\": [\"2017\"],\n",
    "    \"month\": [\"01\"],\n",
    "    \"day\": [\"01\"],\n",
    "    \"time\": [\"00:00\"],\n",
    "    \"data_format\": \"netcdf\",\n",
    "    \"download_format\": \"unarchived\",\n",
    "    \"area\": [-8.5, -77.85, -10, -76.95]\n",
    "}\n",
    "target = os.path.join(output_dir, f\"ERA5_{2017}_H_CB.nc\")\n",
    "print(f\"Downloading {target}...\")\n",
    "client.retrieve(dataset, request, target)\n"
   ]
  }
 ],
 "metadata": {
  "kernelspec": {
   "display_name": "primer_env",
   "language": "python",
   "name": "python3"
  },
  "language_info": {
   "codemirror_mode": {
    "name": "ipython",
    "version": 3
   },
   "file_extension": ".py",
   "mimetype": "text/x-python",
   "name": "python",
   "nbconvert_exporter": "python",
   "pygments_lexer": "ipython3",
   "version": "3.13.2"
  }
 },
 "nbformat": 4,
 "nbformat_minor": 5
}
